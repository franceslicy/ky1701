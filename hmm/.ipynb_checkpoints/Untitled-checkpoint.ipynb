{
 "cells": [
  {
   "cell_type": "code",
   "execution_count": 1,
   "metadata": {
    "collapsed": false
   },
   "outputs": [],
   "source": [
    "res = []\n",
    "with open(\"Symphony_No._5_1st_Movement_chordroman124.txt\") as f:\n",
    "    for line in f:\n",
    "        line = line.rstrip()\n",
    "        s = line.split(\" | \")\n",
    "        measure, beat = s[0][1:-1].split(\", \")\n",
    "        vector = []\n",
    "        for i in s[1][1:-1].split(\", \"):\n",
    "            vector.append(int(i))\n",
    "        ck = s[2].split(\",\")\n",
    "        if len(ck)==2:\n",
    "            chord, key = ck[0], ck[1]\n",
    "            lchord, lkey = ck[0], ck[1]\n",
    "        else:\n",
    "            chord, key = lchord, lkey\n",
    "        res.append({\"measure\": measure, \"beat\":beat, \"vector\":vector, \"chord\":chord, \"key\":key})\n",
    "f.close()"
   ]
  },
  {
   "cell_type": "code",
   "execution_count": 2,
   "metadata": {
    "collapsed": false
   },
   "outputs": [
    {
     "name": "stdout",
     "output_type": "stream",
     "text": [
      "[{'measure': '1', 'beat': '1.0', 'vector': [0, 0, 0, 0, 0, 0, 0, 1, 0, 0, 0, 0], 'chord': 'N/A', 'key': 'CMinor'}, {'measure': '2', 'beat': '1.0', 'vector': [0, 0, 0, 1, 0, 0, 0, 0, 0, 0, 0, 0], 'chord': 'N/A', 'key': 'CMinor'}, {'measure': '3', 'beat': '1.0', 'vector': [0, 0, 0, 0, 0, 1, 0, 0, 0, 0, 0, 0], 'chord': 'N/A', 'key': 'CMinor'}, {'measure': '4', 'beat': '1.0', 'vector': [0, 0, 1, 0, 0, 0, 0, 0, 0, 0, 0, 0], 'chord': 'N/A', 'key': 'CMinor'}, {'measure': '5', 'beat': '1.0', 'vector': [0, 0, 1, 0, 0, 0, 0, 0, 0, 0, 0, 0], 'chord': 'N/A', 'key': 'CMinor'}, {'measure': '6', 'beat': '1.0', 'vector': [0, 0, 0, 0, 0, 0, 0, 1, 0, 0, 0, 0], 'chord': 'N/A', 'key': 'CMinor'}, {'measure': '7', 'beat': '1.0', 'vector': [1, 0, 0, 1, 0, 0, 0, 0, 1, 0, 0, 0], 'chord': 'I', 'key': 'CMinor'}, {'measure': '8', 'beat': '1.0', 'vector': [1, 0, 0, 1, 0, 0, 0, 1, 0, 0, 0, 0], 'chord': 'I', 'key': 'CMinor'}, {'measure': '9', 'beat': '1.0', 'vector': [1, 0, 0, 1, 0, 0, 0, 1, 0, 0, 0, 0], 'chord': 'I', 'key': 'CMinor'}, {'measure': '10', 'beat': '1.0', 'vector': [1, 0, 0, 1, 0, 0, 0, 1, 0, 0, 0, 0], 'chord': 'I', 'key': 'CMinor'}, {'measure': '11', 'beat': '1.0', 'vector': [0, 0, 1, 0, 0, 0, 0, 0, 1, 0, 0, 1], 'chord': 'V+', 'key': 'CMinor'}, {'measure': '12', 'beat': '1.0', 'vector': [0, 0, 1, 0, 0, 1, 0, 1, 0, 0, 0, 1], 'chord': 'V+', 'key': 'CMinor'}, {'measure': '13', 'beat': '1.0', 'vector': [0, 0, 1, 0, 0, 0, 0, 1, 0, 0, 0, 1], 'chord': 'V+', 'key': 'CMinor'}, {'measure': '14', 'beat': '1.0', 'vector': [0, 0, 1, 0, 0, 1, 0, 1, 0, 0, 0, 1], 'chord': 'V+', 'key': 'CMinor'}, {'measure': '15', 'beat': '1.0', 'vector': [1, 0, 0, 1, 0, 1, 0, 1, 0, 0, 0, 0], 'chord': 'I', 'key': 'CMinor'}, {'measure': '16', 'beat': '1.0', 'vector': [0, 0, 1, 0, 0, 1, 0, 1, 0, 0, 0, 1], 'chord': 'V+', 'key': 'CMinor'}, {'measure': '17', 'beat': '1.0', 'vector': [1, 0, 0, 1, 0, 1, 0, 1, 0, 0, 0, 0], 'chord': 'I', 'key': 'CMinor'}, {'measure': '18', 'beat': '1.0', 'vector': [0, 0, 1, 0, 0, 1, 0, 1, 0, 0, 0, 1], 'chord': 'V+', 'key': 'CMinor'}, {'measure': '19', 'beat': '1.0', 'vector': [1, 0, 0, 1, 0, 0, 0, 1, 0, 0, 0, 0], 'chord': 'I', 'key': 'CMinor'}, {'measure': '20', 'beat': '1.0', 'vector': [1, 0, 0, 1, 0, 0, 1, 0, 1, 0, 0, 0], 'chord': 'VIGer', 'key': 'CMinor'}, {'measure': '21', 'beat': '1.0', 'vector': [0, 0, 1, 0, 0, 0, 0, 1, 0, 0, 0, 1], 'chord': 'V+', 'key': 'CMinor'}, {'measure': '22', 'beat': '1.0', 'vector': [0, 0, 0, 0, 0, 0, 0, 0, 1, 0, 0, 0], 'chord': 'N/A', 'key': 'CMinor'}, {'measure': '23', 'beat': '1.0', 'vector': [0, 0, 0, 0, 0, 1, 0, 0, 0, 0, 0, 0], 'chord': 'N/A', 'key': 'CMinor'}, {'measure': '24', 'beat': '1.0', 'vector': [0, 0, 0, 0, 0, 1, 0, 0, 0, 0, 0, 0], 'chord': 'N/A', 'key': 'CMinor'}, {'measure': '25', 'beat': '1.0', 'vector': [0, 0, 0, 0, 0, 0, 0, 0, 1, 0, 0, 0], 'chord': 'N/A', 'key': 'CMinor'}, {'measure': '26', 'beat': '1.0', 'vector': [0, 0, 1, 0, 0, 1, 0, 0, 0, 0, 0, 0], 'chord': 'II', 'key': 'CMinor'}, {'measure': '27', 'beat': '1.0', 'vector': [0, 0, 0, 0, 0, 1, 0, 0, 1, 0, 0, 1], 'chord': 'VIIdim7', 'key': 'CMinor'}, {'measure': '28', 'beat': '1.0', 'vector': [0, 0, 0, 0, 0, 1, 0, 1, 0, 0, 0, 1], 'chord': 'V+7', 'key': 'CMinor'}, {'measure': '29', 'beat': '1.0', 'vector': [1, 0, 0, 1, 0, 0, 0, 1, 1, 0, 0, 0], 'chord': 'I', 'key': 'CMinor'}, {'measure': '30', 'beat': '1.0', 'vector': [0, 0, 1, 0, 0, 1, 0, 0, 0, 0, 0, 0], 'chord': 'II', 'key': 'CMinor'}, {'measure': '31', 'beat': '1.0', 'vector': [0, 0, 0, 0, 0, 1, 0, 0, 1, 0, 0, 1], 'chord': 'VIIdim7', 'key': 'CMinor'}, {'measure': '32', 'beat': '1.0', 'vector': [0, 0, 1, 0, 0, 1, 0, 1, 0, 0, 0, 1], 'chord': 'V+7', 'key': 'CMinor'}, {'measure': '33', 'beat': '1.0', 'vector': [1, 0, 0, 1, 0, 0, 0, 1, 0, 0, 0, 0], 'chord': 'I', 'key': 'CMinor'}, {'measure': '34', 'beat': '1.0', 'vector': [1, 0, 1, 0, 0, 1, 0, 0, 1, 0, 0, 0], 'chord': 'II7', 'key': 'CMinor'}, {'measure': '35', 'beat': '1.0', 'vector': [1, 0, 1, 0, 0, 1, 0, 0, 1, 0, 0, 1], 'chord': 'VII7', 'key': 'CMinor'}, {'measure': '36', 'beat': '1.0', 'vector': [1, 0, 1, 1, 0, 0, 0, 1, 0, 0, 0, 0], 'chord': 'I', 'key': 'CMinor'}, {'measure': '37', 'beat': '1.0', 'vector': [1, 0, 0, 1, 0, 0, 0, 1, 0, 0, 0, 0], 'chord': 'I', 'key': 'CMinor'}, {'measure': '38', 'beat': '1.0', 'vector': [1, 0, 1, 1, 0, 1, 0, 0, 1, 0, 0, 1], 'chord': 'II7', 'key': 'CMinor'}, {'measure': '39', 'beat': '1.0', 'vector': [1, 0, 0, 0, 1, 1, 0, 1, 0, 0, 1, 0], 'chord': 'V7', 'key': 'CMinor'}, {'measure': '40', 'beat': '1.0', 'vector': [1, 0, 0, 0, 0, 1, 0, 1, 1, 0, 0, 0], 'chord': 'IV', 'key': 'CMinor'}, {'measure': '41', 'beat': '1.0', 'vector': [1, 0, 0, 0, 1, 0, 0, 1, 1, 0, 1, 0], 'chord': 'V7', 'key': 'CMinor'}, {'measure': '42', 'beat': '1.0', 'vector': [1, 0, 0, 0, 0, 1, 0, 0, 1, 0, 1, 0], 'chord': 'IV', 'key': 'CMinor'}, {'measure': '43', 'beat': '1.0', 'vector': [1, 0, 1, 0, 0, 1, 0, 0, 1, 0, 0, 1], 'chord': 'VII7', 'key': 'CMinor'}, {'measure': '44', 'beat': '1.0', 'vector': [1, 0, 0, 1, 0, 0, 0, 1, 0, 0, 0, 0], 'chord': 'I', 'key': 'CMinor'}, {'measure': '45', 'beat': '1.0', 'vector': [1, 0, 0, 1, 0, 0, 0, 1, 0, 0, 0, 0], 'chord': 'I', 'key': 'CMinor'}, {'measure': '46', 'beat': '1.0', 'vector': [1, 0, 0, 1, 0, 0, 0, 1, 0, 0, 0, 0], 'chord': 'I', 'key': 'CMinor'}, {'measure': '47', 'beat': '1.0', 'vector': [1, 0, 0, 1, 0, 0, 0, 1, 0, 0, 0, 0], 'chord': 'I', 'key': 'CMinor'}, {'measure': '48', 'beat': '1.0', 'vector': [0, 0, 1, 0, 0, 1, 0, 1, 0, 0, 0, 1], 'chord': 'V+7', 'key': 'CMinor'}, {'measure': '49', 'beat': '1.0', 'vector': [0, 0, 1, 0, 0, 1, 0, 1, 0, 0, 0, 1], 'chord': 'V+7', 'key': 'CMinor'}, {'measure': '50', 'beat': '1.0', 'vector': [0, 0, 1, 0, 0, 1, 0, 1, 0, 0, 0, 1], 'chord': 'V+7', 'key': 'CMinor'}, {'measure': '51', 'beat': '1.0', 'vector': [1, 0, 1, 1, 0, 1, 0, 1, 0, 0, 0, 1], 'chord': 'V+7', 'key': 'CMinor'}, {'measure': '52', 'beat': '1.0', 'vector': [1, 0, 0, 1, 0, 0, 1, 0, 0, 1, 0, 0], 'chord': 'VIIdim7', 'key': 'B-Major'}, {'measure': '53', 'beat': '1.0', 'vector': [1, 0, 0, 1, 0, 0, 1, 0, 0, 1, 0, 0], 'chord': 'VIIdim7', 'key': 'B-Major'}, {'measure': '54', 'beat': '1.0', 'vector': [1, 0, 0, 1, 0, 0, 1, 0, 0, 1, 0, 0], 'chord': 'VIIdim7', 'key': 'B-Major'}, {'measure': '55', 'beat': '1.0', 'vector': [1, 0, 0, 1, 0, 0, 1, 0, 0, 1, 0, 0], 'chord': 'VIIdim7', 'key': 'B-Major'}, {'measure': '56', 'beat': '1.0', 'vector': [1, 0, 0, 1, 0, 0, 1, 0, 0, 1, 0, 0], 'chord': 'VIIdim7', 'key': 'B-Major'}, {'measure': '58', 'beat': '1.0', 'vector': [0, 0, 1, 0, 0, 1, 0, 0, 0, 0, 1, 0], 'chord': 'V', 'key': 'E-Major'}, {'measure': '59', 'beat': '1.0', 'vector': [0, 0, 0, 0, 0, 0, 0, 0, 0, 0, 1, 0], 'chord': 'N/A', 'key': 'E-Major'}, {'measure': '60', 'beat': '1.0', 'vector': [0, 0, 0, 1, 0, 0, 0, 0, 0, 0, 0, 0], 'chord': 'N/A', 'key': 'E-Major'}, {'measure': '61', 'beat': '1.0', 'vector': [0, 0, 0, 0, 0, 1, 0, 0, 0, 0, 0, 0], 'chord': 'N/A', 'key': 'E-Major'}, {'measure': '62', 'beat': '1.0', 'vector': [0, 0, 0, 0, 0, 0, 0, 0, 0, 0, 1, 0], 'chord': 'N/A', 'key': 'E-Major'}, {'measure': '63', 'beat': '1.0', 'vector': [0, 0, 0, 1, 0, 0, 0, 1, 0, 0, 1, 0], 'chord': 'I', 'key': 'E-Major'}, {'measure': '64', 'beat': '1.0', 'vector': [0, 0, 1, 1, 0, 1, 0, 0, 1, 0, 1, 0], 'chord': 'V7', 'key': 'E-Major'}, {'measure': '65', 'beat': '1.0', 'vector': [1, 0, 1, 0, 0, 1, 0, 0, 1, 0, 1, 0], 'chord': 'V7', 'key': 'E-Major'}, {'measure': '66', 'beat': '1.0', 'vector': [1, 0, 0, 1, 0, 0, 0, 1, 0, 0, 1, 0], 'chord': 'I', 'key': 'E-Major'}, {'measure': '67', 'beat': '1.0', 'vector': [0, 0, 0, 1, 0, 0, 0, 1, 0, 0, 1, 0], 'chord': 'I', 'key': 'E-Major'}, {'measure': '68', 'beat': '1.0', 'vector': [0, 0, 1, 1, 0, 1, 0, 0, 1, 0, 1, 0], 'chord': 'V7', 'key': 'E-Major'}, {'measure': '69', 'beat': '1.0', 'vector': [1, 0, 1, 0, 0, 1, 0, 0, 1, 0, 1, 0], 'chord': 'V7', 'key': 'E-Major'}, {'measure': '70', 'beat': '1.0', 'vector': [1, 0, 0, 1, 0, 0, 0, 1, 0, 0, 1, 0], 'chord': 'I', 'key': 'E-Major'}, {'measure': '71', 'beat': '1.0', 'vector': [0, 0, 0, 1, 0, 0, 0, 1, 0, 0, 1, 0], 'chord': 'I', 'key': 'E-Major'}, {'measure': '72', 'beat': '1.0', 'vector': [0, 0, 1, 1, 0, 1, 0, 0, 1, 0, 1, 0], 'chord': 'V7', 'key': 'E-Major'}, {'measure': '73', 'beat': '1.0', 'vector': [1, 0, 1, 0, 0, 1, 0, 0, 1, 0, 1, 0], 'chord': 'V7', 'key': 'E-Major'}, {'measure': '74', 'beat': '1.0', 'vector': [1, 0, 0, 1, 0, 0, 0, 1, 0, 0, 1, 0], 'chord': 'I', 'key': 'E-Major'}, {'measure': '75', 'beat': '1.0', 'vector': [1, 0, 0, 1, 0, 0, 0, 1, 0, 0, 1, 0], 'chord': 'I', 'key': 'E-Major'}, {'measure': '76', 'beat': '1.0', 'vector': [1, 1, 0, 0, 1, 0, 0, 1, 0, 0, 0, 0], 'chord': 'V+', 'key': 'FMinor'}, {'measure': '77', 'beat': '1.0', 'vector': [1, 0, 0, 0, 1, 0, 0, 1, 0, 0, 1, 0], 'chord': 'V+', 'key': 'FMinor'}, {'measure': '78', 'beat': '1.0', 'vector': [1, 0, 0, 0, 0, 1, 0, 0, 1, 0, 1, 0], 'chord': 'I', 'key': 'FMinor'}, {'measure': '79', 'beat': '1.0', 'vector': [0, 1, 0, 1, 0, 1, 0, 0, 1, 0, 0, 0], 'chord': 'IV', 'key': 'A-Major'}, {'measure': '80', 'beat': '1.0', 'vector': [0, 0, 0, 1, 0, 1, 0, 1, 0, 0, 1, 0], 'chord': 'V', 'key': 'A-Major'}, {'measure': '81', 'beat': '1.0', 'vector': [0, 1, 0, 1, 0, 0, 0, 1, 0, 0, 1, 0], 'chord': 'V7', 'key': 'A-Major'}, {'measure': '82', 'beat': '1.0', 'vector': [1, 1, 0, 1, 0, 0, 0, 0, 1, 0, 0, 0], 'chord': 'I', 'key': 'A-Major'}, {'measure': '83', 'beat': '1.0', 'vector': [1, 0, 0, 1, 0, 1, 0, 0, 1, 0, 0, 0], 'chord': 'V7', 'key': 'B-Major'}, {'measure': '84', 'beat': '1.0', 'vector': [1, 0, 0, 1, 0, 1, 1, 0, 0, 1, 0, 0], 'chord': 'V7', 'key': 'B-Major'}, {'measure': '85', 'beat': '1.0', 'vector': [1, 0, 0, 1, 0, 1, 0, 0, 0, 1, 0, 0], 'chord': 'V7', 'key': 'B-Major'}, {'measure': '86', 'beat': '1.0', 'vector': [0, 0, 0, 1, 0, 1, 1, 0, 0, 0, 1, 0], 'chord': 'V7', 'key': 'B-Major'}, {'measure': '87', 'beat': '1.0', 'vector': [0, 0, 0, 1, 0, 1, 0, 0, 0, 0, 1, 0], 'chord': 'V7', 'key': 'B-Major'}, {'measure': '88', 'beat': '1.0', 'vector': [0, 0, 0, 1, 0, 1, 1, 0, 0, 1, 0, 1], 'chord': 'V7', 'key': 'B-Major'}, {'measure': '89', 'beat': '1.0', 'vector': [0, 0, 0, 1, 0, 1, 0, 0, 0, 1, 0, 1], 'chord': 'V7', 'key': 'B-Major'}, {'measure': '90', 'beat': '1.0', 'vector': [1, 0, 0, 1, 0, 1, 1, 0, 0, 1, 0, 0], 'chord': 'V7', 'key': 'B-Major'}, {'measure': '91', 'beat': '1.0', 'vector': [1, 0, 0, 1, 0, 1, 0, 0, 0, 1, 0, 0], 'chord': 'V7', 'key': 'B-Major'}, {'measure': '92', 'beat': '1.0', 'vector': [1, 0, 0, 1, 0, 1, 1, 0, 0, 1, 0, 0], 'chord': 'V7', 'key': 'B-Major'}, {'measure': '93', 'beat': '1.0', 'vector': [1, 0, 0, 1, 0, 0, 1, 0, 0, 1, 0, 0], 'chord': 'VIIdim7', 'key': 'B-Major'}, {'measure': '94', 'beat': '1.0', 'vector': [0, 0, 1, 0, 0, 1, 0, 0, 1, 0, 1, 0], 'chord': 'V7', 'key': 'E-Major'}, {'measure': '95', 'beat': '1.0', 'vector': [1, 0, 1, 0, 0, 1, 0, 0, 1, 0, 1, 0], 'chord': 'V7', 'key': 'E-Major'}, {'measure': '96', 'beat': '1.0', 'vector': [0, 0, 0, 1, 0, 1, 0, 1, 1, 0, 1, 0], 'chord': 'I', 'key': 'E-Major'}, {'measure': '97', 'beat': '1.0', 'vector': [1, 0, 1, 1, 0, 1, 0, 0, 1, 0, 1, 0], 'chord': 'V7', 'key': 'E-Major'}, {'measure': '98', 'beat': '1.0', 'vector': [0, 0, 0, 1, 0, 1, 0, 1, 0, 0, 1, 0], 'chord': 'I', 'key': 'E-Major'}, {'measure': '99', 'beat': '1.0', 'vector': [1, 0, 1, 1, 0, 1, 0, 0, 1, 0, 0, 0], 'chord': 'II7', 'key': 'E-Major'}, {'measure': '100', 'beat': '1.0', 'vector': [1, 0, 0, 1, 0, 0, 0, 1, 0, 0, 1, 0], 'chord': 'I', 'key': 'E-Major'}, {'measure': '101', 'beat': '1.0', 'vector': [0, 0, 1, 0, 0, 1, 0, 0, 0, 1, 1, 0], 'chord': 'V', 'key': 'E-Major'}, {'measure': '102', 'beat': '1.0', 'vector': [0, 0, 1, 0, 0, 1, 0, 0, 1, 1, 1, 0], 'chord': 'V', 'key': 'E-Major'}, {'measure': '103', 'beat': '1.0', 'vector': [1, 0, 1, 0, 0, 1, 0, 0, 1, 0, 1, 0], 'chord': 'V', 'key': 'E-Major'}, {'measure': '104', 'beat': '1.0', 'vector': [0, 0, 0, 1, 0, 1, 0, 1, 1, 0, 1, 0], 'chord': 'I', 'key': 'E-Major'}, {'measure': '105', 'beat': '1.0', 'vector': [1, 0, 1, 1, 0, 1, 0, 0, 1, 0, 1, 0], 'chord': 'V7', 'key': 'E-Major'}, {'measure': '106', 'beat': '1.0', 'vector': [0, 0, 0, 1, 0, 1, 0, 1, 0, 0, 1, 0], 'chord': 'I', 'key': 'E-Major'}, {'measure': '107', 'beat': '1.0', 'vector': [1, 0, 1, 1, 0, 1, 0, 0, 1, 0, 0, 0], 'chord': 'II7', 'key': 'E-Major'}, {'measure': '108', 'beat': '1.0', 'vector': [1, 0, 0, 1, 0, 0, 0, 1, 0, 0, 1, 0], 'chord': 'I', 'key': 'E-Major'}, {'measure': '109', 'beat': '1.0', 'vector': [0, 0, 1, 0, 0, 1, 0, 0, 1, 0, 1, 0], 'chord': 'V7', 'key': 'E-Major'}, {'measure': '110', 'beat': '1.0', 'vector': [0, 0, 0, 1, 0, 0, 0, 1, 0, 0, 1, 0], 'chord': 'I', 'key': 'E-Major'}, {'measure': '111', 'beat': '1.0', 'vector': [0, 0, 0, 1, 0, 0, 0, 1, 0, 0, 1, 0], 'chord': 'I', 'key': 'E-Major'}, {'measure': '112', 'beat': '1.0', 'vector': [0, 0, 0, 1, 0, 0, 0, 1, 0, 0, 0, 0], 'chord': 'I', 'key': 'E-Major'}, {'measure': '113', 'beat': '1.0', 'vector': [0, 0, 1, 1, 0, 1, 0, 1, 0, 0, 1, 0], 'chord': 'V', 'key': 'E-Major'}, {'measure': '114', 'beat': '1.0', 'vector': [0, 0, 0, 1, 0, 0, 0, 1, 0, 0, 1, 0], 'chord': 'I', 'key': 'E-Major'}, {'measure': '115', 'beat': '1.0', 'vector': [0, 0, 0, 1, 0, 0, 0, 1, 0, 0, 1, 0], 'chord': 'I', 'key': 'E-Major'}, {'measure': '116', 'beat': '1.0', 'vector': [0, 0, 0, 1, 0, 0, 0, 1, 0, 0, 1, 0], 'chord': 'I', 'key': 'E-Major'}, {'measure': '117', 'beat': '1.0', 'vector': [0, 0, 1, 1, 0, 1, 0, 1, 0, 0, 1, 0], 'chord': 'V', 'key': 'E-Major'}, {'measure': '118', 'beat': '1.0', 'vector': [0, 0, 0, 1, 0, 0, 0, 1, 0, 0, 1, 0], 'chord': 'I', 'key': 'E-Major'}, {'measure': '119', 'beat': '1.0', 'vector': [0, 0, 1, 0, 0, 1, 0, 0, 0, 0, 1, 0], 'chord': 'V', 'key': 'E-Major'}, {'measure': '120', 'beat': '1.0', 'vector': [0, 0, 0, 1, 0, 0, 0, 1, 0, 0, 1, 0], 'chord': 'I', 'key': 'E-Major'}, {'measure': '121', 'beat': '1.0', 'vector': [0, 0, 1, 0, 0, 1, 0, 0, 0, 0, 1, 0], 'chord': 'V', 'key': 'E-Major'}, {'measure': '122', 'beat': '1.0', 'vector': [0, 0, 0, 1, 0, 0, 0, 1, 0, 0, 1, 0], 'chord': 'I', 'key': 'E-Major'}]\n"
     ]
    }
   ],
   "source": [
    "print(res)"
   ]
  },
  {
   "cell_type": "code",
   "execution_count": 13,
   "metadata": {
    "collapsed": false
   },
   "outputs": [
    {
     "name": "stdout",
     "output_type": "stream",
     "text": [
      "CMinor\n",
      "B-Major\n",
      "E-Major\n",
      "FMinor\n",
      "A-Major\n"
     ]
    }
   ],
   "source": [
    "keylist = []\n",
    "for i in res:\n",
    "    if i['key'] not in keylist:\n",
    "        print(i['key'])\n",
    "        keylist.append(i['key'])"
   ]
  },
  {
   "cell_type": "code",
   "execution_count": 4,
   "metadata": {
    "collapsed": false
   },
   "outputs": [],
   "source": [
    "CMinor = []\n",
    "BbMajor = []\n",
    "EbMajor = []\n",
    "FMinor = []\n",
    "AbMajor = []\n",
    "\n",
    "FMajor = []\n",
    "CMajor = []\n",
    "GMajor = []\n",
    "DMinor = []\n",
    "GMinor = []\n",
    "EMajor = []\n",
    "DMajor = []\n",
    "\n",
    "AMinor = []\n",
    "\n",
    "\n",
    "chords = ['I', 'I+', 'IIb', 'II', 'II7', 'III', 'IV', 'V', 'V7', 'V+', 'V+7', 'VIb', 'VI', 'VIGer', 'VII', 'VII7', 'VIIGer', 'VIIIta', 'VIIdim', 'VIIdim7']\n",
    "tran = {\n",
    "    'I':0, \n",
    "    'I+':1, \n",
    "    'IIb':2, \n",
    "    'II':3, \n",
    "    'II7':4, \n",
    "    'III':5, \n",
    "    'IV':6, \n",
    "    'V':7, \n",
    "    'V7':8, \n",
    "    'V+':9, \n",
    "    'V+7':10, \n",
    "    'VIb':11, \n",
    "    'VI':12, \n",
    "    'VIGer':13, \n",
    "    'VII':14, \n",
    "    'VII7':15, \n",
    "    'VIIGer':16, \n",
    "    'VIIIta':17, \n",
    "    'VIIdim':18, \n",
    "    'VIIdim7':19\n",
    "}"
   ]
  },
  {
   "cell_type": "code",
   "execution_count": 5,
   "metadata": {
    "collapsed": true
   },
   "outputs": [],
   "source": [
    "import numpy as np"
   ]
  },
  {
   "cell_type": "code",
   "execution_count": 20,
   "metadata": {
    "collapsed": false
   },
   "outputs": [],
   "source": [
    "a = np.zeros((20,20))"
   ]
  },
  {
   "cell_type": "code",
   "execution_count": 7,
   "metadata": {
    "collapsed": false
   },
   "outputs": [
    {
     "data": {
      "text/plain": [
       "array([[0., 0., 0., 0., 0., 0., 0., 0., 0., 0., 0., 0., 0., 0., 0., 0.,\n",
       "        0., 0., 0., 0.],\n",
       "       [0., 0., 0., 0., 0., 0., 0., 0., 0., 0., 0., 0., 0., 0., 0., 0.,\n",
       "        0., 0., 0., 0.],\n",
       "       [0., 0., 0., 0., 0., 0., 0., 0., 0., 0., 0., 0., 0., 0., 0., 0.,\n",
       "        0., 0., 0., 0.],\n",
       "       [0., 0., 0., 0., 0., 0., 0., 0., 0., 0., 0., 0., 0., 0., 0., 0.,\n",
       "        0., 0., 0., 0.],\n",
       "       [0., 0., 0., 0., 0., 0., 0., 0., 0., 0., 0., 0., 0., 0., 0., 0.,\n",
       "        0., 0., 0., 0.],\n",
       "       [0., 0., 0., 0., 0., 0., 0., 0., 0., 0., 0., 0., 0., 0., 0., 0.,\n",
       "        0., 0., 0., 0.],\n",
       "       [0., 0., 0., 0., 0., 0., 0., 0., 0., 0., 0., 0., 0., 0., 0., 0.,\n",
       "        0., 0., 0., 0.],\n",
       "       [0., 0., 0., 0., 0., 0., 0., 0., 0., 0., 0., 0., 0., 0., 0., 0.,\n",
       "        0., 0., 0., 0.],\n",
       "       [0., 0., 0., 0., 0., 0., 0., 0., 0., 0., 0., 0., 0., 0., 0., 0.,\n",
       "        0., 0., 0., 0.],\n",
       "       [0., 0., 0., 0., 0., 0., 0., 0., 0., 0., 0., 0., 0., 0., 0., 0.,\n",
       "        0., 0., 0., 0.],\n",
       "       [0., 0., 0., 0., 0., 0., 0., 0., 0., 0., 0., 0., 0., 0., 0., 0.,\n",
       "        0., 0., 0., 0.],\n",
       "       [0., 0., 0., 0., 0., 0., 0., 0., 0., 0., 0., 0., 0., 0., 0., 0.,\n",
       "        0., 0., 0., 0.],\n",
       "       [0., 0., 0., 0., 0., 0., 0., 0., 0., 0., 0., 0., 0., 0., 0., 0.,\n",
       "        0., 0., 0., 0.],\n",
       "       [0., 0., 0., 0., 0., 0., 0., 0., 0., 0., 0., 0., 0., 0., 0., 0.,\n",
       "        0., 0., 0., 0.],\n",
       "       [0., 0., 0., 0., 0., 0., 0., 0., 0., 0., 0., 0., 0., 0., 0., 0.,\n",
       "        0., 0., 0., 0.],\n",
       "       [0., 0., 0., 0., 0., 0., 0., 0., 0., 0., 0., 0., 0., 0., 0., 0.,\n",
       "        0., 0., 0., 0.],\n",
       "       [0., 0., 0., 0., 0., 0., 0., 0., 0., 0., 0., 0., 0., 0., 0., 0.,\n",
       "        0., 0., 0., 0.],\n",
       "       [0., 0., 0., 0., 0., 0., 0., 0., 0., 0., 0., 0., 0., 0., 0., 0.,\n",
       "        0., 0., 0., 0.],\n",
       "       [0., 0., 0., 0., 0., 0., 0., 0., 0., 0., 0., 0., 0., 0., 0., 0.,\n",
       "        0., 0., 0., 0.],\n",
       "       [0., 0., 0., 0., 0., 0., 0., 0., 0., 0., 0., 0., 0., 0., 0., 0.,\n",
       "        0., 0., 0., 0.]])"
      ]
     },
     "execution_count": 7,
     "metadata": {},
     "output_type": "execute_result"
    }
   ],
   "source": [
    "a"
   ]
  },
  {
   "cell_type": "code",
   "execution_count": 21,
   "metadata": {
    "collapsed": false
   },
   "outputs": [],
   "source": [
    "lkey = 'N/A'\n",
    "lchord = 'N/A'\n",
    "for i in res:\n",
    "    if lkey=='A-Major' and i['key']=='A-Major' and lchord!='N/A' and i['chord']!='N/A':\n",
    "        row = tran[lchord]\n",
    "        col = tran[i['chord']]\n",
    "        a[row][col] = a[row][col] + 1\n",
    "    lkey = i['key']\n",
    "    lchord = i['chord']"
   ]
  },
  {
   "cell_type": "code",
   "execution_count": 22,
   "metadata": {
    "collapsed": false
   },
   "outputs": [
    {
     "name": "stdout",
     "output_type": "stream",
     "text": [
      "[[0. 0. 0. 0. 0. 0. 0. 0. 0. 0. 0. 0. 0. 0. 0. 0. 0. 0. 0. 0.]\n",
      " [0. 0. 0. 0. 0. 0. 0. 0. 0. 0. 0. 0. 0. 0. 0. 0. 0. 0. 0. 0.]\n",
      " [0. 0. 0. 0. 0. 0. 0. 0. 0. 0. 0. 0. 0. 0. 0. 0. 0. 0. 0. 0.]\n",
      " [0. 0. 0. 0. 0. 0. 0. 0. 0. 0. 0. 0. 0. 0. 0. 0. 0. 0. 0. 0.]\n",
      " [0. 0. 0. 0. 0. 0. 0. 0. 0. 0. 0. 0. 0. 0. 0. 0. 0. 0. 0. 0.]\n",
      " [0. 0. 0. 0. 0. 0. 0. 0. 0. 0. 0. 0. 0. 0. 0. 0. 0. 0. 0. 0.]\n",
      " [0. 0. 0. 0. 0. 0. 0. 0. 0. 0. 0. 0. 0. 0. 0. 0. 0. 0. 0. 0.]\n",
      " [0. 0. 0. 0. 0. 0. 0. 0. 0. 0. 0. 0. 0. 0. 0. 0. 0. 0. 0. 0.]\n",
      " [0. 0. 0. 0. 0. 0. 0. 0. 9. 0. 0. 0. 0. 0. 0. 0. 0. 0. 0. 1.]\n",
      " [0. 0. 0. 0. 0. 0. 0. 0. 0. 0. 0. 0. 0. 0. 0. 0. 0. 0. 0. 0.]\n",
      " [0. 0. 0. 0. 0. 0. 0. 0. 0. 0. 0. 0. 0. 0. 0. 0. 0. 0. 0. 0.]\n",
      " [0. 0. 0. 0. 0. 0. 0. 0. 0. 0. 0. 0. 0. 0. 0. 0. 0. 0. 0. 0.]\n",
      " [0. 0. 0. 0. 0. 0. 0. 0. 0. 0. 0. 0. 0. 0. 0. 0. 0. 0. 0. 0.]\n",
      " [0. 0. 0. 0. 0. 0. 0. 0. 0. 0. 0. 0. 0. 0. 0. 0. 0. 0. 0. 0.]\n",
      " [0. 0. 0. 0. 0. 0. 0. 0. 0. 0. 0. 0. 0. 0. 0. 0. 0. 0. 0. 0.]\n",
      " [0. 0. 0. 0. 0. 0. 0. 0. 0. 0. 0. 0. 0. 0. 0. 0. 0. 0. 0. 0.]\n",
      " [0. 0. 0. 0. 0. 0. 0. 0. 0. 0. 0. 0. 0. 0. 0. 0. 0. 0. 0. 0.]\n",
      " [0. 0. 0. 0. 0. 0. 0. 0. 0. 0. 0. 0. 0. 0. 0. 0. 0. 0. 0. 0.]\n",
      " [0. 0. 0. 0. 0. 0. 0. 0. 0. 0. 0. 0. 0. 0. 0. 0. 0. 0. 0. 0.]\n",
      " [0. 0. 0. 0. 0. 0. 0. 0. 0. 0. 0. 0. 0. 0. 0. 0. 0. 0. 0. 4.]]\n"
     ]
    }
   ],
   "source": [
    "print(a)"
   ]
  },
  {
   "cell_type": "code",
   "execution_count": 16,
   "metadata": {
    "collapsed": false
   },
   "outputs": [],
   "source": [
    "import matplotlib as mpl"
   ]
  },
  {
   "cell_type": "code",
   "execution_count": 17,
   "metadata": {
    "collapsed": true
   },
   "outputs": [],
   "source": [
    "from matplotlib import pyplot"
   ]
  },
  {
   "cell_type": "code",
   "execution_count": 23,
   "metadata": {
    "collapsed": true
   },
   "outputs": [],
   "source": [
    "fig = pyplot.figure(2)\n",
    "cmap2 = mpl.colors.LinearSegmentedColormap.from_list('my_colormap',\n",
    "                                           ['white','grey','black'],\n",
    "                                           256)\n",
    "\n",
    "img2 = pyplot.imshow(a,interpolation='nearest',\n",
    "                    cmap = cmap2,\n",
    "                    origin='lower')\n",
    "\n",
    "fig.savefig(\"image5.png\")"
   ]
  },
  {
   "cell_type": "code",
   "execution_count": null,
   "metadata": {
    "collapsed": true
   },
   "outputs": [],
   "source": []
  }
 ],
 "metadata": {
  "kernelspec": {
   "display_name": "Python 3",
   "language": "python",
   "name": "python3"
  },
  "language_info": {
   "codemirror_mode": {
    "name": "ipython",
    "version": 3
   },
   "file_extension": ".py",
   "mimetype": "text/x-python",
   "name": "python",
   "nbconvert_exporter": "python",
   "pygments_lexer": "ipython3",
   "version": "3.6.0"
  }
 },
 "nbformat": 4,
 "nbformat_minor": 2
}
