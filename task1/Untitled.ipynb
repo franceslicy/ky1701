{
 "cells": [
  {
   "cell_type": "code",
   "execution_count": 7,
   "metadata": {
    "collapsed": false
   },
   "outputs": [
    {
     "name": "stdout",
     "output_type": "stream",
     "text": [
      "[3, 4, 5, 6, 7, 8, 9]\n"
     ]
    }
   ],
   "source": [
    "import sys\n",
    "import const\n",
    "\n",
    "arr = [1,2,3,4,5,6,7,8,9]\n",
    "print(arr[2:])"
   ]
  },
  {
   "cell_type": "code",
   "execution_count": 2,
   "metadata": {
    "collapsed": false
   },
   "outputs": [
    {
     "name": "stdout",
     "output_type": "stream",
     "text": [
      "{'I': 'major_triad', 'II': 'minor_triad', 'III': 'minor_triad', 'IV': 'major_triad', 'V': 'major_triad', 'VI': 'minor_triad', 'VII': 'diminished_triad'}\n"
     ]
    }
   ],
   "source": [
    "print(const.chord_major)"
   ]
  },
  {
   "cell_type": "code",
   "execution_count": 11,
   "metadata": {
    "collapsed": false
   },
   "outputs": [
    {
     "name": "stdout",
     "output_type": "stream",
     "text": [
      "Major: \n",
      "C D E F G A B C \n",
      "[2, 1, 2, 2, 1, 2, 2]\n",
      "Minor: \n",
      "C D Eb F G Ab Bb C \n"
     ]
    }
   ],
   "source": [
    "# task1.3: print possible chord numbers with a given key and chord notes\n",
    "# <your python3 executable> task1_3.py <key> <chord notes>\n",
    "\n",
    "#input_key = sys.argv[1]\n",
    "#input_notes = sys.argv[2:]\n",
    "input_key = 'C'\n",
    "\n",
    "note = const.Note.parseFromString(input_key)\n",
    "\n",
    "print(\"Major: \")\n",
    "\n",
    "print(note.printNote(), end=\" \")\n",
    "scale = const.MAJOR\n",
    "for i in scale:\n",
    "    note = note.noteAfterInterval([1, i])\n",
    "    print(note.printNote(), end=\" \")\n",
    "print()\n",
    "\n",
    "scale = const.MINOR\n",
    "print(scale)\n",
    "\n",
    "print(\"Minor: \")\n",
    "print(note.printNote(), end=\" \")\n",
    "for i in scale:\n",
    "    note = note.noteAfterInterval([1, i])\n",
    "    print(note.printNote(), end=\" \")\n",
    "print()\n",
    "\n"
   ]
  },
  {
   "cell_type": "code",
   "execution_count": 13,
   "metadata": {
    "collapsed": false
   },
   "outputs": [
    {
     "name": "stdout",
     "output_type": "stream",
     "text": [
      "DFAD\n"
     ]
    }
   ],
   "source": []
  },
  {
   "cell_type": "code",
   "execution_count": 6,
   "metadata": {
    "collapsed": false
   },
   "outputs": [
    {
     "name": "stdout",
     "output_type": "stream",
     "text": [
      "DFAD\n"
     ]
    }
   ],
   "source": [
    "import subprocess\n",
    "\n",
    "output = subprocess.check_output([\"python\", \"task1_2.py\", \"C\", \"major\", \"II\"])\n",
    "output = output.decode('utf-8').strip()\n",
    "print(output)"
   ]
  },
  {
   "cell_type": "code",
   "execution_count": 31,
   "metadata": {
    "collapsed": false
   },
   "outputs": [],
   "source": [
    "major_dict = {\n",
    "    'I': getNotes(\"C\", \"major\", \"I\"),\n",
    "    'II': getNotes(\"C\", \"major\", \"II\"),\n",
    "    'III': getNotes(\"C\", \"major\", \"III\"),\n",
    "    'IV': getNotes(\"C\", \"major\", \"IV\"),\n",
    "    'V': getNotes(\"C\", \"major\", \"V\"),\n",
    "    'VI': getNotes(\"C\", \"major\", \"VI\"),\n",
    "    'VII': getNotes(\"C\", \"major\", \"VII\")\n",
    "}\n",
    "\n"
   ]
  },
  {
   "cell_type": "code",
   "execution_count": 30,
   "metadata": {
    "collapsed": false
   },
   "outputs": [],
   "source": [
    "def getNotes(key, scale, chord_num):\n",
    "    output = subprocess.check_output([\"python\", \"task1_2.py\", key, scale, chord_num]).decode('utf-8').strip()\n",
    "    return set(output.split(' '))"
   ]
  },
  {
   "cell_type": "code",
   "execution_count": 33,
   "metadata": {
    "collapsed": false
   },
   "outputs": [
    {
     "name": "stdout",
     "output_type": "stream",
     "text": [
      "{'I': {'E', 'C', 'G'}, 'II': {'D', 'F', 'A'}, 'III': {'B', 'E', 'G'}, 'IV': {'C', 'A', 'F'}, 'V': {'B', 'D', 'G'}, 'VI': {'C', 'E', 'A'}, 'VII': {'B', 'D', 'F'}}\n"
     ]
    }
   ],
   "source": [
    "print(major_dict)"
   ]
  },
  {
   "cell_type": "code",
   "execution_count": 32,
   "metadata": {
    "collapsed": true
   },
   "outputs": [],
   "source": [
    "minor_dict = {\n",
    "    'I': getNotes(\"C\", \"minor\", \"I\"),\n",
    "    'II': getNotes(\"C\", \"minor\", \"II\"),\n",
    "    'III': getNotes(\"C\", \"minor\", \"III\"),\n",
    "    'IV': getNotes(\"C\", \"minor\", \"IV\"),\n",
    "    'V': getNotes(\"C\", \"minor\", \"V\"),\n",
    "    'VI': getNotes(\"C\", \"minor\", \"VI\"),\n",
    "    'VII': getNotes(\"C\", \"minor\", \"VII\")\n",
    "}"
   ]
  },
  {
   "cell_type": "code",
   "execution_count": 34,
   "metadata": {
    "collapsed": false
   },
   "outputs": [
    {
     "name": "stdout",
     "output_type": "stream",
     "text": [
      "{'I': {'C', 'G', 'Eb'}, 'II': {'Ab', 'D', 'F'}, 'III': {'Bb', 'G', 'Eb'}, 'IV': {'Ab', 'C', 'F'}, 'V': {'D', 'Bb', 'G'}, 'VI': {'Ab', 'C', 'Eb'}, 'VII': {'D', 'Bb', 'F'}}\n"
     ]
    }
   ],
   "source": [
    "print(minor_dict)"
   ]
  },
  {
   "cell_type": "code",
   "execution_count": null,
   "metadata": {
    "collapsed": true
   },
   "outputs": [],
   "source": []
  }
 ],
 "metadata": {
  "kernelspec": {
   "display_name": "Python 3",
   "language": "python",
   "name": "python3"
  },
  "language_info": {
   "codemirror_mode": {
    "name": "ipython",
    "version": 3
   },
   "file_extension": ".py",
   "mimetype": "text/x-python",
   "name": "python",
   "nbconvert_exporter": "python",
   "pygments_lexer": "ipython3",
   "version": "3.6.0"
  }
 },
 "nbformat": 4,
 "nbformat_minor": 2
}
