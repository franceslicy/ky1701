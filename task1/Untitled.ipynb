{
 "cells": [
  {
   "cell_type": "code",
   "execution_count": 18,
   "metadata": {
    "collapsed": false
   },
   "outputs": [
    {
     "name": "stdout",
     "output_type": "stream",
     "text": [
      "C Major Chord I\n",
      "C Major Chord IV\n",
      "C Major Chord VI\n",
      "C Minor Chord I\n",
      "C Minor Chord IV\n",
      "C Minor Chord VI\n"
     ]
    }
   ],
   "source": [
    "import sys\n",
    "import const\n",
    "import subprocess\n",
    "\n",
    "def getNotes(key, scale, chord_num):\n",
    "    output = subprocess.check_output([\"python\", \"task1_2.py\", key, scale, chord_num]).decode('utf-8').strip()\n",
    "    return frozenset(output.split(' '))\n",
    "\n",
    "\n",
    "input_key = \"C\"\n",
    "input_notes = frozenset(['C'])\n",
    "\n",
    "major_table = {\n",
    "    getNotes(input_key, \"major\", \"I\"): 'I',\n",
    "    getNotes(input_key, \"major\", \"II\"): 'II',\n",
    "    getNotes(input_key, \"major\", \"III\"): 'III',\n",
    "    getNotes(input_key, \"major\", \"IV\"): 'IV',\n",
    "    getNotes(input_key, \"major\", \"V\"): 'V',\n",
    "    getNotes(input_key, \"major\", \"VI\"): 'VI',\n",
    "    getNotes(input_key, \"major\", \"VII\"): 'VII'\n",
    "}\n",
    "\n",
    "minor_table = {\n",
    "    getNotes(input_key, \"minor\", \"I\"): 'I',\n",
    "    getNotes(input_key, \"minor\", \"II\"): 'II',\n",
    "    getNotes(input_key, \"minor\", \"III\"): 'III',\n",
    "    getNotes(input_key, \"minor\", \"IV\"): 'IV',\n",
    "    getNotes(input_key, \"minor\", \"V\"): 'V',\n",
    "    getNotes(input_key, \"minor\", \"VI\"): 'VI',\n",
    "    getNotes(input_key, \"minor\", \"VII\"): 'VII'\n",
    "}\n",
    "\n",
    "found = 0\n",
    "for notes in major_table:\n",
    "    if input_notes <= notes:\n",
    "        print(input_key + \" \" + \"Major Chord \" + major_table[notes])\n",
    "        found = 1\n",
    "for notes in minor_table:\n",
    "    if input_notes <= notes:\n",
    "        print(input_key + \" \" + \"Minor Chord \" + minor_table[notes])\n",
    "        found = 1\n",
    "if(found==0):\n",
    "    print(\"No possible match for given notes\")"
   ]
  },
  {
   "cell_type": "code",
   "execution_count": 5,
   "metadata": {
    "collapsed": false
   },
   "outputs": [
    {
     "name": "stdout",
     "output_type": "stream",
     "text": [
      "frozenset({'G', 'C', 'E'})\n",
      "frozenset({'F', 'D', 'A'})\n",
      "frozenset({'G', 'B', 'E'})\n",
      "frozenset({'F', 'C', 'A'})\n",
      "frozenset({'G', 'D', 'B'})\n",
      "frozenset({'C', 'A', 'E'})\n",
      "frozenset({'F', 'D', 'B'})\n"
     ]
    }
   ],
   "source": [
    "for i in major_table:\n",
    "    print(i)"
   ]
  },
  {
   "cell_type": "code",
   "execution_count": 7,
   "metadata": {
    "collapsed": false
   },
   "outputs": [
    {
     "name": "stdout",
     "output_type": "stream",
     "text": [
      "3\n"
     ]
    }
   ],
   "source": [
    "print(len(input_notes))"
   ]
  },
  {
   "cell_type": "code",
   "execution_count": null,
   "metadata": {
    "collapsed": true
   },
   "outputs": [],
   "source": []
  }
 ],
 "metadata": {
  "kernelspec": {
   "display_name": "Python 3",
   "language": "python",
   "name": "python3"
  },
  "language_info": {
   "codemirror_mode": {
    "name": "ipython",
    "version": 3
   },
   "file_extension": ".py",
   "mimetype": "text/x-python",
   "name": "python",
   "nbconvert_exporter": "python",
   "pygments_lexer": "ipython3",
   "version": "3.6.0"
  }
 },
 "nbformat": 4,
 "nbformat_minor": 2
}
