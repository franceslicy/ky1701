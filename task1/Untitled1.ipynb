{
 "cells": [
  {
   "cell_type": "code",
   "execution_count": 1,
   "metadata": {
    "collapsed": false
   },
   "outputs": [
    {
     "data": {
      "text/plain": [
       "1"
      ]
     },
     "execution_count": 1,
     "metadata": {},
     "output_type": "execute_result"
    }
   ],
   "source": [
    "min([1,2,3,4,5])"
   ]
  },
  {
   "cell_type": "code",
   "execution_count": 4,
   "metadata": {
    "collapsed": false
   },
   "outputs": [
    {
     "ename": "TypeError",
     "evalue": "'int' object is not iterable",
     "output_type": "error",
     "traceback": [
      "\u001b[1;31m----------------------------------------------------------\u001b[0m",
      "\u001b[1;31mTypeError\u001b[0m                Traceback (most recent call last)",
      "\u001b[1;32m<ipython-input-4-e27ff91189af>\u001b[0m in \u001b[0;36m<module>\u001b[1;34m()\u001b[0m\n\u001b[1;32m----> 1\u001b[1;33m \u001b[0mmylist\u001b[0m \u001b[1;33m=\u001b[0m \u001b[1;33m[\u001b[0m\u001b[0mi\u001b[0m \u001b[1;32mfor\u001b[0m \u001b[0mi\u001b[0m \u001b[1;32min\u001b[0m \u001b[0mlen\u001b[0m\u001b[1;33m(\u001b[0m\u001b[1;33m[\u001b[0m\u001b[1;36m1\u001b[0m\u001b[1;33m,\u001b[0m\u001b[1;36m2\u001b[0m\u001b[1;33m,\u001b[0m\u001b[1;36m3\u001b[0m\u001b[1;33m,\u001b[0m\u001b[1;36m4\u001b[0m\u001b[1;33m,\u001b[0m\u001b[1;36m5\u001b[0m\u001b[1;33m]\u001b[0m\u001b[1;33m)\u001b[0m\u001b[1;33m]\u001b[0m\u001b[1;33m\u001b[0m\u001b[0m\n\u001b[0m",
      "\u001b[1;31mTypeError\u001b[0m: 'int' object is not iterable"
     ]
    }
   ],
   "source": []
  },
  {
   "cell_type": "code",
   "execution_count": 1,
   "metadata": {
    "collapsed": true
   },
   "outputs": [],
   "source": [
    "from music21 import *"
   ]
  },
  {
   "cell_type": "code",
   "execution_count": 2,
   "metadata": {
    "collapsed": false
   },
   "outputs": [
    {
     "ename": "SubConverterException",
     "evalue": "Cannot find a path to the 'mscore' file at C:\\Program Files (x86)\\MuseScore 2\\MuseScore.exe -- download MuseScore",
     "output_type": "error",
     "traceback": [
      "\u001b[1;31m---------------------------------------------------------------------------\u001b[0m",
      "\u001b[1;31mSubConverterException\u001b[0m                     Traceback (most recent call last)",
      "\u001b[1;32m<ipython-input-2-46c66c71749d>\u001b[0m in \u001b[0;36m<module>\u001b[1;34m()\u001b[0m\n\u001b[1;32m----> 1\u001b[1;33m \u001b[0mconverter\u001b[0m\u001b[1;33m.\u001b[0m\u001b[0mparse\u001b[0m\u001b[1;33m(\u001b[0m\u001b[1;34m\"tinynotation: 3/4 c4 d8 f g16 a g f#\"\u001b[0m\u001b[1;33m)\u001b[0m\u001b[1;33m.\u001b[0m\u001b[0mshow\u001b[0m\u001b[1;33m(\u001b[0m\u001b[1;33m)\u001b[0m\u001b[1;33m\u001b[0m\u001b[0m\n\u001b[0m",
      "\u001b[1;32mC:\\Users\\user\\Anaconda3\\lib\\site-packages\\music21\\stream\\__init__.py\u001b[0m in \u001b[0;36mshow\u001b[1;34m(self, *args, **kwargs)\u001b[0m\n\u001b[0;32m    255\u001b[0m         \u001b[1;32mif\u001b[0m \u001b[0mself\u001b[0m\u001b[1;33m.\u001b[0m\u001b[0misSorted\u001b[0m \u001b[1;32mis\u001b[0m \u001b[1;32mFalse\u001b[0m \u001b[1;32mand\u001b[0m \u001b[0mself\u001b[0m\u001b[1;33m.\u001b[0m\u001b[0mautoSort\u001b[0m\u001b[1;33m:\u001b[0m\u001b[1;33m\u001b[0m\u001b[0m\n\u001b[0;32m    256\u001b[0m             \u001b[0mself\u001b[0m\u001b[1;33m.\u001b[0m\u001b[0msort\u001b[0m\u001b[1;33m(\u001b[0m\u001b[1;33m)\u001b[0m\u001b[1;33m\u001b[0m\u001b[0m\n\u001b[1;32m--> 257\u001b[1;33m         \u001b[1;32mreturn\u001b[0m \u001b[0msuper\u001b[0m\u001b[1;33m(\u001b[0m\u001b[0mStream\u001b[0m\u001b[1;33m,\u001b[0m \u001b[0mself\u001b[0m\u001b[1;33m)\u001b[0m\u001b[1;33m.\u001b[0m\u001b[0mshow\u001b[0m\u001b[1;33m(\u001b[0m\u001b[1;33m*\u001b[0m\u001b[0margs\u001b[0m\u001b[1;33m,\u001b[0m \u001b[1;33m**\u001b[0m\u001b[0mkwargs\u001b[0m\u001b[1;33m)\u001b[0m\u001b[1;33m\u001b[0m\u001b[0m\n\u001b[0m\u001b[0;32m    258\u001b[0m \u001b[1;33m\u001b[0m\u001b[0m\n\u001b[0;32m    259\u001b[0m     \u001b[1;31m#---------------------------------------------------------------------------\u001b[0m\u001b[1;33m\u001b[0m\u001b[1;33m\u001b[0m\u001b[0m\n",
      "\u001b[1;32mC:\\Users\\user\\Anaconda3\\lib\\site-packages\\music21\\base.py\u001b[0m in \u001b[0;36mshow\u001b[1;34m(self, fmt, app, **keywords)\u001b[0m\n\u001b[0;32m   2627\u001b[0m                                  \u001b[0mapp\u001b[0m\u001b[1;33m=\u001b[0m\u001b[0mapp\u001b[0m\u001b[1;33m,\u001b[0m\u001b[1;33m\u001b[0m\u001b[0m\n\u001b[0;32m   2628\u001b[0m                                  \u001b[0msubformats\u001b[0m\u001b[1;33m=\u001b[0m\u001b[0msubformats\u001b[0m\u001b[1;33m,\u001b[0m\u001b[1;33m\u001b[0m\u001b[0m\n\u001b[1;32m-> 2629\u001b[1;33m                                  **keywords)\n\u001b[0m\u001b[0;32m   2630\u001b[0m \u001b[1;33m\u001b[0m\u001b[0m\n\u001b[0;32m   2631\u001b[0m     \u001b[1;31m#--------------------------------------------------------------------------\u001b[0m\u001b[1;33m\u001b[0m\u001b[1;33m\u001b[0m\u001b[0m\n",
      "\u001b[1;32mC:\\Users\\user\\Anaconda3\\lib\\site-packages\\music21\\converter\\subConverters.py\u001b[0m in \u001b[0;36mshow\u001b[1;34m(self, obj, fmt, app, subformats, **keywords)\u001b[0m\n\u001b[0;32m    351\u001b[0m             \u001b[1;32mfor\u001b[0m \u001b[0ms\u001b[0m \u001b[1;32min\u001b[0m \u001b[0mscores\u001b[0m\u001b[1;33m:\u001b[0m\u001b[1;33m\u001b[0m\u001b[0m\n\u001b[0;32m    352\u001b[0m                 fp = helperSubConverter.write(s, helperFormat,\n\u001b[1;32m--> 353\u001b[1;33m                                               subformats=helperSubformats, **keywords)\n\u001b[0m\u001b[0;32m    354\u001b[0m \u001b[1;33m\u001b[0m\u001b[0m\n\u001b[0;32m    355\u001b[0m                 \u001b[1;32mif\u001b[0m \u001b[0mhelperSubformats\u001b[0m\u001b[1;33m[\u001b[0m\u001b[1;36m0\u001b[0m\u001b[1;33m]\u001b[0m \u001b[1;33m==\u001b[0m \u001b[1;34m'png'\u001b[0m\u001b[1;33m:\u001b[0m\u001b[1;33m\u001b[0m\u001b[0m\n",
      "\u001b[1;32mC:\\Users\\user\\Anaconda3\\lib\\site-packages\\music21\\converter\\subConverters.py\u001b[0m in \u001b[0;36mwrite\u001b[1;34m(self, obj, fmt, fp, subformats, **keywords)\u001b[0m\n\u001b[0;32m    873\u001b[0m                 \u001b[1;32mand\u001b[0m \u001b[1;33m(\u001b[0m\u001b[1;34m'png'\u001b[0m \u001b[1;32min\u001b[0m \u001b[0msubformats\u001b[0m \u001b[1;32mor\u001b[0m \u001b[1;34m'pdf'\u001b[0m \u001b[1;32min\u001b[0m \u001b[0msubformats\u001b[0m\u001b[1;33m)\u001b[0m\u001b[1;33m\u001b[0m\u001b[0m\n\u001b[0;32m    874\u001b[0m                 and environLocal['musescoreDirectPNGPath'] != '/skip'):\n\u001b[1;32m--> 875\u001b[1;33m             \u001b[0mfp\u001b[0m \u001b[1;33m=\u001b[0m \u001b[0mself\u001b[0m\u001b[1;33m.\u001b[0m\u001b[0mrunThroughMusescore\u001b[0m\u001b[1;33m(\u001b[0m\u001b[0mfp\u001b[0m\u001b[1;33m,\u001b[0m \u001b[0msubformats\u001b[0m\u001b[1;33m,\u001b[0m \u001b[1;33m**\u001b[0m\u001b[0mkeywords\u001b[0m\u001b[1;33m)\u001b[0m\u001b[1;33m\u001b[0m\u001b[0m\n\u001b[0m\u001b[0;32m    876\u001b[0m \u001b[1;33m\u001b[0m\u001b[0m\n\u001b[0;32m    877\u001b[0m         \u001b[1;32mreturn\u001b[0m \u001b[0mfp\u001b[0m\u001b[1;33m\u001b[0m\u001b[0m\n",
      "\u001b[1;32mC:\\Users\\user\\Anaconda3\\lib\\site-packages\\music21\\converter\\subConverters.py\u001b[0m in \u001b[0;36mrunThroughMusescore\u001b[1;34m(self, fp, subformats, **keywords)\u001b[0m\n\u001b[0;32m    805\u001b[0m             raise SubConverterException(\n\u001b[0;32m    806\u001b[0m                         \u001b[1;34m\"Cannot find a path to the 'mscore' file at \"\u001b[0m \u001b[1;33m+\u001b[0m\u001b[1;33m\u001b[0m\u001b[0m\n\u001b[1;32m--> 807\u001b[1;33m                         \"%s -- download MuseScore\" % musescorePath)\n\u001b[0m\u001b[0;32m    808\u001b[0m \u001b[1;33m\u001b[0m\u001b[0m\n\u001b[0;32m    809\u001b[0m         \u001b[1;32mif\u001b[0m \u001b[0msubformats\u001b[0m \u001b[1;32mis\u001b[0m \u001b[1;32mNone\u001b[0m\u001b[1;33m:\u001b[0m\u001b[1;33m\u001b[0m\u001b[0m\n",
      "\u001b[1;31mSubConverterException\u001b[0m: Cannot find a path to the 'mscore' file at C:\\Program Files (x86)\\MuseScore 2\\MuseScore.exe -- download MuseScore"
     ]
    }
   ],
   "source": [
    "converter.parse(\"tinynotation: 3/4 c4 d8 f g16 a g f#\").show()"
   ]
  },
  {
   "cell_type": "code",
   "execution_count": 3,
   "metadata": {
    "collapsed": false
   },
   "outputs": [
    {
     "name": "stdout",
     "output_type": "stream",
     "text": [
      "  0 11  7  8  3  1  2 10  6  5  4  9\n",
      "  1  0  8  9  4  2  3 11  7  6  5 10\n",
      "  5  4  0  1  8  6  7  3 11 10  9  2\n",
      "  4  3 11  0  7  5  6  2 10  9  8  1\n",
      "  9  8  4  5  0 10 11  7  3  2  1  6\n",
      " 11 10  6  7  2  0  1  9  5  4  3  8\n",
      " 10  9  5  6  1 11  0  8  4  3  2  7\n",
      "  2  1  9 10  5  3  4  0  8  7  6 11\n",
      "  6  5  1  2  9  7  8  4  0 11 10  3\n",
      "  7  6  2  3 10  8  9  5  1  0 11  4\n",
      "  8  7  3  4 11  9 10  6  2  1  0  5\n",
      "  3  2 10 11  6  4  5  1  9  8  7  0\n"
     ]
    }
   ],
   "source": [
    "print (serial.rowToMatrix([2,1,9,10,5,3,4,0,8,7,6,11]) )"
   ]
  },
  {
   "cell_type": "code",
   "execution_count": 8,
   "metadata": {
    "collapsed": false
   },
   "outputs": [
    {
     "name": "stdout",
     "output_type": "stream",
     "text": [
      "C\n",
      "result: I +\n",
      "excluded notes: A\n"
     ]
    }
   ],
   "source": [
    "import sys\n",
    "from music21 import *\n",
    "\n",
    "major_chord = {\n",
    " 'M6': {'M7': {'M2': {'P4': {'result': ['VII 7']}, 'result': ['VII 7']},\n",
    "             'P4': {'M2': {'result': ['VII 7']}, 'result': ['VII 7']},\n",
    "             'result': ['VII 7']},\n",
    "       'P1': {'M2': {'P4': {'result': ['II 7']}, 'result': ['II 7']},\n",
    "             'M3': {'P4': {'result': ['IV 7']},\n",
    "                   'P5': {'result': ['VI 7']},\n",
    "                   'result': ['IV 7', 'VI']},\n",
    "             'P4': {'M2': {'result': ['II 7']},\n",
    "                   'M3': {'result': ['IV 7']},\n",
    "                   'result': ['II 7', 'IV']},\n",
    "             'P5': {'M3': {'result': ['VI 7']}, 'result': ['VI 7']},\n",
    "             'result': ['II 7', 'IV', 'VI']},\n",
    "       'M2': {'M7': {'P4': {'result': ['VII 7']}, 'result': ['VII 7']},\n",
    "             'P1': {'P4': {'result': ['II 7']}, 'result': ['II 7']},\n",
    "             'P4': {'M7': {'result': ['VII 7']},\n",
    "                   'P1': {'result': ['II 7']},\n",
    "                   'result': ['II', 'VII 7']},\n",
    "             'result': ['II', 'VII 7']},\n",
    "       'M3': {'P1': {'P4': {'result': ['IV 7']},\n",
    "                   'P5': {'result': ['VI 7']},\n",
    "                   'result': ['IV 7', 'VI']},\n",
    "             'P4': {'P1': {'result': ['IV 7']}, 'result': ['IV 7']},\n",
    "             'P5': {'P1': {'result': ['VI 7']}, 'result': ['VI 7']},\n",
    "             'result': ['IV 7', 'VI']},\n",
    "       'P4': {'M7': {'M2': {'result': ['VII 7']}, 'result': ['VII 7']},\n",
    "             'P1': {'M2': {'result': ['II 7']},\n",
    "                   'M3': {'result': ['IV 7']},\n",
    "                   'result': ['II 7', 'IV']},\n",
    "             'M2': {'M7': {'result': ['VII 7']},\n",
    "                   'P1': {'result': ['II 7']},\n",
    "                   'result': ['II', 'VII 7']},\n",
    "             'M3': {'P1': {'result': ['IV 7']}, 'result': ['IV 7']},\n",
    "             'result': ['II', 'IV', 'VII 7']},\n",
    "       'P5': {'P1': {'M3': {'result': ['VI 7']}, 'result': ['VI 7']},\n",
    "             'M3': {'P1': {'result': ['VI 7']}, 'result': ['VI 7']},\n",
    "             'result': ['VI 7']},\n",
    "       'result': []},\n",
    " 'm6': {'M7': {'M2': {'P4': {'result': ['VII dim7']}, 'result': ['VII dim7']},\n",
    "              'P4': {'M2': {'result': ['VII dim7']}, 'result': ['VII dim7']},\n",
    "              'result': ['VII dim7']},\n",
    "        'P1': {'M2': {'A4': {'result': ['VI Fre']}, 'result': ['VI Fre']},\n",
    "              'm3': {'A4': {'result': ['VI Ger']}, 'result': ['VI b']},\n",
    "              'A4': {'M2': {'result': ['VI Fre']},\n",
    "                     'm3': {'result': ['VI Ger']},\n",
    "                     'result': ['VI Ita']},\n",
    "              'result': ['VI b']},\n",
    "        'M2': {'M7': {'P4': {'result': ['VII dim7']}, 'result': ['VII dim7']},\n",
    "              'P1': {'A4': {'result': ['VI Fre']}, 'result': ['VI Fre']},\n",
    "              'P4': {'M7': {'result': ['VII dim7']}, 'result': ['VII dim7']},\n",
    "              'A4': {'P1': {'result': ['VI Fre']}, 'result': ['VI Fre']},\n",
    "              'result': ['VI Fre', 'VII dim7']},\n",
    "        'm2': {'P4': {'result': ['II b']}, 'result': ['II b']},\n",
    "        'm3': {'P1': {'A4': {'result': ['VI Ger']}, 'result': ['VI b']},\n",
    "               'A4': {'P1': {'result': ['VI Ger']}, 'result': ['VI Ger']},\n",
    "               'result': ['VI b']},\n",
    "        'P4': {'M7': {'M2': {'result': ['VII dim7']}, 'result': ['VII dim7']},\n",
    "              'M2': {'M7': {'result': ['VII dim7']}, 'result': ['VII dim7']},\n",
    "              'm2': {'result': ['II b']},\n",
    "              'result': ['II b', 'VII dim7']},\n",
    "        'A4': {'P1': {'M2': {'result': ['VI Fre']},\n",
    "                     'm3': {'result': ['VI Ger']},\n",
    "                     'result': ['VI Ita']},\n",
    "               'M2': {'P1': {'result': ['VI Fre']}, 'result': ['VI Fre']},\n",
    "               'm3': {'P1': {'result': ['VI Ger']}, 'result': ['VI Ger']},\n",
    "               'result': ['VI Ita']},\n",
    "        'result': []},\n",
    " 'M7': {'M6': {'M2': {'P4': {'result': ['VII 7']}, 'result': ['VII 7']},\n",
    "             'P4': {'M2': {'result': ['VII 7']}, 'result': ['VII 7']},\n",
    "             'result': ['VII 7']},\n",
    "       'm6': {'M2': {'P4': {'result': ['VII dim7']}, 'result': ['VII dim7']},\n",
    "              'P4': {'M2': {'result': ['VII dim7']}, 'result': ['VII dim7']},\n",
    "              'result': ['VII dim7']},\n",
    "       'P1': {'M3': {'P5': {'result': ['I 7']}, 'result': ['I 7']},\n",
    "             'P5': {'M3': {'result': ['I 7']}, 'result': ['I 7']},\n",
    "             'result': ['I 7']},\n",
    "       'M2': {'M6': {'P4': {'result': ['VII 7']}, 'result': ['VII 7']},\n",
    "             'm6': {'P4': {'result': ['VII dim7']}, 'result': ['VII dim7']},\n",
    "             'M3': {'P5': {'result': ['III 7']}, 'result': ['III 7']},\n",
    "             'P4': {'M6': {'result': ['VII 7']},\n",
    "                   'm6': {'result': ['VII dim7']},\n",
    "                   'P5': {'result': ['V 7']},\n",
    "                   'result': ['V 7', 'VII']},\n",
    "             'P5': {'M3': {'result': ['III 7']},\n",
    "                   'P4': {'result': ['V 7']},\n",
    "                   'result': ['III 7', 'V']},\n",
    "             'result': ['III 7', 'V', 'VII']},\n",
    "       'M3': {'P1': {'P5': {'result': ['I 7']}, 'result': ['I 7']},\n",
    "             'M2': {'P5': {'result': ['III 7']}, 'result': ['III 7']},\n",
    "             'P5': {'P1': {'result': ['I 7']},\n",
    "                   'M2': {'result': ['III 7']},\n",
    "                   'result': ['I 7', 'III']},\n",
    "             'result': ['I 7', 'III']},\n",
    "       'P4': {'M6': {'M2': {'result': ['VII 7']}, 'result': ['VII 7']},\n",
    "             'm6': {'M2': {'result': ['VII dim7']}, 'result': ['VII dim7']},\n",
    "             'M2': {'M6': {'result': ['VII 7']},\n",
    "                   'm6': {'result': ['VII dim7']},\n",
    "                   'P5': {'result': ['V 7']},\n",
    "                   'result': ['V 7', 'VII']},\n",
    "             'P5': {'M2': {'result': ['V 7']}, 'result': ['V 7']},\n",
    "             'result': ['V 7', 'VII']},\n",
    "       'P5': {'P1': {'M3': {'result': ['I 7']}, 'result': ['I 7']},\n",
    "             'M2': {'M3': {'result': ['III 7']},\n",
    "                   'P4': {'result': ['V 7']},\n",
    "                   'result': ['III 7', 'V']},\n",
    "             'M3': {'P1': {'result': ['I 7']},\n",
    "                   'M2': {'result': ['III 7']},\n",
    "                   'result': ['I 7', 'III']},\n",
    "             'P4': {'M2': {'result': ['V 7']}, 'result': ['V 7']},\n",
    "             'result': ['I 7', 'III', 'V']},\n",
    "       'result': []},\n",
    " 'P1': {'M6': {'M2': {'P4': {'result': ['II 7']}, 'result': ['II 7']},\n",
    "             'M3': {'P4': {'result': ['IV 7']},\n",
    "                   'P5': {'result': ['VI 7']},\n",
    "                   'result': ['IV 7', 'VI']},\n",
    "             'P4': {'M2': {'result': ['II 7']},\n",
    "                   'M3': {'result': ['IV 7']},\n",
    "                   'result': ['II 7', 'IV']},\n",
    "             'P5': {'M3': {'result': ['VI 7']}, 'result': ['VI 7']},\n",
    "             'result': ['II 7', 'IV', 'VI']},\n",
    "       'm6': {'M2': {'A4': {'result': ['VI Fre']}, 'result': ['VI Fre']},\n",
    "              'm3': {'A4': {'result': ['VI Ger']}, 'result': ['VI b']},\n",
    "              'A4': {'M2': {'result': ['VI Fre']},\n",
    "                     'm3': {'result': ['VI Ger']},\n",
    "                     'result': ['VI Ita']},\n",
    "              'result': ['VI b']},\n",
    "       'M7': {'M3': {'P5': {'result': ['I 7']}, 'result': ['I 7']},\n",
    "             'P5': {'M3': {'result': ['I 7']}, 'result': ['I 7']},\n",
    "             'result': ['I 7']},\n",
    "       'M2': {'M6': {'P4': {'result': ['II 7']}, 'result': ['II 7']},\n",
    "             'm6': {'A4': {'result': ['VI Fre']}, 'result': ['VI Fre']},\n",
    "             'P4': {'M6': {'result': ['II 7']}, 'result': ['II 7']},\n",
    "             'A4': {'m6': {'result': ['VI Fre']}, 'result': ['VI Fre']},\n",
    "             'result': ['II 7', 'VI Fre']},\n",
    "       'M3': {'M6': {'P4': {'result': ['IV 7']},\n",
    "                   'P5': {'result': ['VI 7']},\n",
    "                   'result': ['IV 7', 'VI']},\n",
    "             'M7': {'P5': {'result': ['I 7']}, 'result': ['I 7']},\n",
    "             'P4': {'M6': {'result': ['IV 7']}, 'result': ['IV 7']},\n",
    "             'P5': {'M6': {'result': ['VI 7']},\n",
    "                   'M7': {'result': ['I 7']},\n",
    "                   'result': ['I', 'VI 7']},\n",
    "             'result': ['I', 'IV 7', 'VI']},\n",
    "       'm3': {'m6': {'A4': {'result': ['VI Ger']}, 'result': ['VI b']},\n",
    "              'A4': {'m6': {'result': ['VI Ger']}, 'result': ['VI Ger']},\n",
    "              'result': ['VI b']},\n",
    "       'P4': {'M6': {'M2': {'result': ['II 7']},\n",
    "                   'M3': {'result': ['IV 7']},\n",
    "                   'result': ['II 7', 'IV']},\n",
    "             'M2': {'M6': {'result': ['II 7']}, 'result': ['II 7']},\n",
    "             'M3': {'M6': {'result': ['IV 7']}, 'result': ['IV 7']},\n",
    "             'result': ['II 7', 'IV']},\n",
    "       'A4': {'m6': {'M2': {'result': ['VI Fre']},\n",
    "                     'm3': {'result': ['VI Ger']},\n",
    "                     'result': ['VI Ita']},\n",
    "              'M2': {'m6': {'result': ['VI Fre']}, 'result': ['VI Fre']},\n",
    "              'm3': {'m6': {'result': ['VI Ger']}, 'result': ['VI Ger']},\n",
    "              'result': ['VI Ita']},\n",
    "       'P5': {'M6': {'M3': {'result': ['VI 7']}, 'result': ['VI 7']},\n",
    "             'M7': {'M3': {'result': ['I 7']}, 'result': ['I 7']},\n",
    "             'M3': {'M6': {'result': ['VI 7']},\n",
    "                   'M7': {'result': ['I 7']},\n",
    "                   'result': ['I', 'VI 7']},\n",
    "             'result': ['I', 'VI 7']},\n",
    "       'result': []},\n",
    " 'M2': {'M6': {'M7': {'P4': {'result': ['VII 7']}, 'result': ['VII 7']},\n",
    "             'P1': {'P4': {'result': ['II 7']}, 'result': ['II 7']},\n",
    "             'P4': {'M7': {'result': ['VII 7']},\n",
    "                   'P1': {'result': ['II 7']},\n",
    "                   'result': ['II', 'VII 7']},\n",
    "             'result': ['II', 'VII 7']},\n",
    "       'm6': {'M7': {'P4': {'result': ['VII dim7']}, 'result': ['VII dim7']},\n",
    "              'P1': {'A4': {'result': ['VI Fre']}, 'result': ['VI Fre']},\n",
    "              'P4': {'M7': {'result': ['VII dim7']}, 'result': ['VII dim7']},\n",
    "              'A4': {'P1': {'result': ['VI Fre']}, 'result': ['VI Fre']},\n",
    "              'result': ['VI Fre', 'VII dim7']},\n",
    "       'M7': {'M6': {'P4': {'result': ['VII 7']}, 'result': ['VII 7']},\n",
    "             'm6': {'P4': {'result': ['VII dim7']}, 'result': ['VII dim7']},\n",
    "             'M3': {'P5': {'result': ['III 7']}, 'result': ['III 7']},\n",
    "             'P4': {'M6': {'result': ['VII 7']},\n",
    "                   'm6': {'result': ['VII dim7']},\n",
    "                   'P5': {'result': ['V 7']},\n",
    "                   'result': ['V 7', 'VII']},\n",
    "             'P5': {'M3': {'result': ['III 7']},\n",
    "                   'P4': {'result': ['V 7']},\n",
    "                   'result': ['III 7', 'V']},\n",
    "             'result': ['III 7', 'V', 'VII']},\n",
    "       'P1': {'M6': {'P4': {'result': ['II 7']}, 'result': ['II 7']},\n",
    "             'm6': {'A4': {'result': ['VI Fre']}, 'result': ['VI Fre']},\n",
    "             'P4': {'M6': {'result': ['II 7']}, 'result': ['II 7']},\n",
    "             'A4': {'m6': {'result': ['VI Fre']}, 'result': ['VI Fre']},\n",
    "             'result': ['II 7', 'VI Fre']},\n",
    "       'M3': {'M7': {'P5': {'result': ['III 7']}, 'result': ['III 7']},\n",
    "             'P5': {'M7': {'result': ['III 7']}, 'result': ['III 7']},\n",
    "             'result': ['III 7']},\n",
    "       'P4': {'M6': {'M7': {'result': ['VII 7']},\n",
    "                   'P1': {'result': ['II 7']},\n",
    "                   'result': ['II', 'VII 7']},\n",
    "             'm6': {'M7': {'result': ['VII dim7']}, 'result': ['VII dim7']},\n",
    "             'M7': {'M6': {'result': ['VII 7']},\n",
    "                   'm6': {'result': ['VII dim7']},\n",
    "                   'P5': {'result': ['V 7']},\n",
    "                   'result': ['V 7', 'VII']},\n",
    "             'P1': {'M6': {'result': ['II 7']}, 'result': ['II 7']},\n",
    "             'P5': {'M7': {'result': ['V 7']}, 'result': ['V 7']},\n",
    "             'result': ['II', 'V 7', 'VII']},\n",
    "       'A4': {'m6': {'P1': {'result': ['VI Fre']}, 'result': ['VI Fre']},\n",
    "              'P1': {'m6': {'result': ['VI Fre']}, 'result': ['VI Fre']},\n",
    "              'result': ['VI Fre']},\n",
    "       'P5': {'M7': {'M3': {'result': ['III 7']},\n",
    "                   'P4': {'result': ['V 7']},\n",
    "                   'result': ['III 7', 'V']},\n",
    "             'M3': {'M7': {'result': ['III 7']}, 'result': ['III 7']},\n",
    "             'P4': {'M7': {'result': ['V 7']}, 'result': ['V 7']},\n",
    "             'result': ['III 7', 'V']},\n",
    "       'result': []},\n",
    " 'm2': {'m6': {'P4': {'result': ['II b']}, 'result': ['II b']},\n",
    "        'P4': {'m6': {'result': ['II b']}, 'result': ['II b']},\n",
    "        'result': []},\n",
    " 'M3': {'M6': {'P1': {'P4': {'result': ['IV 7']},\n",
    "                   'P5': {'result': ['VI 7']},\n",
    "                   'result': ['IV 7', 'VI']},\n",
    "             'P4': {'P1': {'result': ['IV 7']}, 'result': ['IV 7']},\n",
    "             'P5': {'P1': {'result': ['VI 7']}, 'result': ['VI 7']},\n",
    "             'result': ['IV 7', 'VI']},\n",
    "       'M7': {'P1': {'P5': {'result': ['I 7']}, 'result': ['I 7']},\n",
    "             'M2': {'P5': {'result': ['III 7']}, 'result': ['III 7']},\n",
    "             'P5': {'P1': {'result': ['I 7']},\n",
    "                   'M2': {'result': ['III 7']},\n",
    "                   'result': ['I 7', 'III']},\n",
    "             'result': ['I 7', 'III']},\n",
    "       'P1': {'M6': {'P4': {'result': ['IV 7']},\n",
    "                   'P5': {'result': ['VI 7']},\n",
    "                   'result': ['IV 7', 'VI']},\n",
    "             'M7': {'P5': {'result': ['I 7']}, 'result': ['I 7']},\n",
    "             'P4': {'M6': {'result': ['IV 7']}, 'result': ['IV 7']},\n",
    "             'P5': {'M6': {'result': ['VI 7']},\n",
    "                   'M7': {'result': ['I 7']},\n",
    "                   'result': ['I', 'VI 7']},\n",
    "             'result': ['I', 'IV 7', 'VI']},\n",
    "       'M2': {'M7': {'P5': {'result': ['III 7']}, 'result': ['III 7']},\n",
    "             'P5': {'M7': {'result': ['III 7']}, 'result': ['III 7']},\n",
    "             'result': ['III 7']},\n",
    "       'P4': {'M6': {'P1': {'result': ['IV 7']}, 'result': ['IV 7']},\n",
    "             'P1': {'M6': {'result': ['IV 7']}, 'result': ['IV 7']},\n",
    "             'result': ['IV 7']},\n",
    "       'P5': {'M6': {'P1': {'result': ['VI 7']}, 'result': ['VI 7']},\n",
    "             'M7': {'P1': {'result': ['I 7']},\n",
    "                   'M2': {'result': ['III 7']},\n",
    "                   'result': ['I 7', 'III']},\n",
    "             'P1': {'M6': {'result': ['VI 7']},\n",
    "                   'M7': {'result': ['I 7']},\n",
    "                   'result': ['I', 'VI 7']},\n",
    "             'M2': {'M7': {'result': ['III 7']}, 'result': ['III 7']},\n",
    "             'result': ['I', 'III', 'VI 7']},\n",
    "       'result': []},\n",
    " 'm3': {'m6': {'P1': {'A4': {'result': ['VI Ger']}, 'result': ['VI b']},\n",
    "               'A4': {'P1': {'result': ['VI Ger']}, 'result': ['VI Ger']},\n",
    "               'result': ['VI b']},\n",
    "        'P1': {'m6': {'A4': {'result': ['VI Ger']}, 'result': ['VI b']},\n",
    "              'A4': {'m6': {'result': ['VI Ger']}, 'result': ['VI Ger']},\n",
    "              'result': ['VI b']},\n",
    "        'A4': {'m6': {'P1': {'result': ['VI Ger']}, 'result': ['VI Ger']},\n",
    "               'P1': {'m6': {'result': ['VI Ger']}, 'result': ['VI Ger']},\n",
    "               'result': ['VI Ger']},\n",
    "        'result': []},\n",
    " 'P4': {'M6': {'M7': {'M2': {'result': ['VII 7']}, 'result': ['VII 7']},\n",
    "             'P1': {'M2': {'result': ['II 7']},\n",
    "                   'M3': {'result': ['IV 7']},\n",
    "                   'result': ['II 7', 'IV']},\n",
    "             'M2': {'M7': {'result': ['VII 7']},\n",
    "                   'P1': {'result': ['II 7']},\n",
    "                   'result': ['II', 'VII 7']},\n",
    "             'M3': {'P1': {'result': ['IV 7']}, 'result': ['IV 7']},\n",
    "             'result': ['II', 'IV', 'VII 7']},\n",
    "       'm6': {'M7': {'M2': {'result': ['VII dim7']}, 'result': ['VII dim7']},\n",
    "              'M2': {'M7': {'result': ['VII dim7']}, 'result': ['VII dim7']},\n",
    "              'm2': {'result': ['II b']},\n",
    "              'result': ['II b', 'VII dim7']},\n",
    "       'M7': {'M6': {'M2': {'result': ['VII 7']}, 'result': ['VII 7']},\n",
    "             'm6': {'M2': {'result': ['VII dim7']}, 'result': ['VII dim7']},\n",
    "             'M2': {'M6': {'result': ['VII 7']},\n",
    "                   'm6': {'result': ['VII dim7']},\n",
    "                   'P5': {'result': ['V 7']},\n",
    "                   'result': ['V 7', 'VII']},\n",
    "             'P5': {'M2': {'result': ['V 7']}, 'result': ['V 7']},\n",
    "             'result': ['V 7', 'VII']},\n",
    "       'P1': {'M6': {'M2': {'result': ['II 7']},\n",
    "                   'M3': {'result': ['IV 7']},\n",
    "                   'result': ['II 7', 'IV']},\n",
    "             'M2': {'M6': {'result': ['II 7']}, 'result': ['II 7']},\n",
    "             'M3': {'M6': {'result': ['IV 7']}, 'result': ['IV 7']},\n",
    "             'result': ['II 7', 'IV']},\n",
    "       'M2': {'M6': {'M7': {'result': ['VII 7']},\n",
    "                   'P1': {'result': ['II 7']},\n",
    "                   'result': ['II', 'VII 7']},\n",
    "             'm6': {'M7': {'result': ['VII dim7']}, 'result': ['VII dim7']},\n",
    "             'M7': {'M6': {'result': ['VII 7']},\n",
    "                   'm6': {'result': ['VII dim7']},\n",
    "                   'P5': {'result': ['V 7']},\n",
    "                   'result': ['V 7', 'VII']},\n",
    "             'P1': {'M6': {'result': ['II 7']}, 'result': ['II 7']},\n",
    "             'P5': {'M7': {'result': ['V 7']}, 'result': ['V 7']},\n",
    "             'result': ['II', 'V 7', 'VII']},\n",
    "       'm2': {'m6': {'result': ['II b']}, 'result': ['II b']},\n",
    "       'M3': {'M6': {'P1': {'result': ['IV 7']}, 'result': ['IV 7']},\n",
    "             'P1': {'M6': {'result': ['IV 7']}, 'result': ['IV 7']},\n",
    "             'result': ['IV 7']},\n",
    "       'P5': {'M7': {'M2': {'result': ['V 7']}, 'result': ['V 7']},\n",
    "             'M2': {'M7': {'result': ['V 7']}, 'result': ['V 7']},\n",
    "             'result': ['V 7']},\n",
    "       'result': []},\n",
    " 'A4': {'m6': {'P1': {'M2': {'result': ['VI Fre']},\n",
    "                     'm3': {'result': ['VI Ger']},\n",
    "                     'result': ['VI Ita']},\n",
    "               'M2': {'P1': {'result': ['VI Fre']}, 'result': ['VI Fre']},\n",
    "               'm3': {'P1': {'result': ['VI Ger']}, 'result': ['VI Ger']},\n",
    "               'result': ['VI Ita']},\n",
    "        'P1': {'m6': {'M2': {'result': ['VI Fre']},\n",
    "                     'm3': {'result': ['VI Ger']},\n",
    "                     'result': ['VI Ita']},\n",
    "              'M2': {'m6': {'result': ['VI Fre']}, 'result': ['VI Fre']},\n",
    "              'm3': {'m6': {'result': ['VI Ger']}, 'result': ['VI Ger']},\n",
    "              'result': ['VI Ita']},\n",
    "        'M2': {'m6': {'P1': {'result': ['VI Fre']}, 'result': ['VI Fre']},\n",
    "              'P1': {'m6': {'result': ['VI Fre']}, 'result': ['VI Fre']},\n",
    "              'result': ['VI Fre']},\n",
    "        'm3': {'m6': {'P1': {'result': ['VI Ger']}, 'result': ['VI Ger']},\n",
    "               'P1': {'m6': {'result': ['VI Ger']}, 'result': ['VI Ger']},\n",
    "               'result': ['VI Ger']},\n",
    "        'result': []},\n",
    " 'P5': {'M6': {'P1': {'M3': {'result': ['VI 7']}, 'result': ['VI 7']},\n",
    "             'M3': {'P1': {'result': ['VI 7']}, 'result': ['VI 7']},\n",
    "             'result': ['VI 7']},\n",
    "       'M7': {'P1': {'M3': {'result': ['I 7']}, 'result': ['I 7']},\n",
    "             'M2': {'M3': {'result': ['III 7']},\n",
    "                   'P4': {'result': ['V 7']},\n",
    "                   'result': ['III 7', 'V']},\n",
    "             'M3': {'P1': {'result': ['I 7']},\n",
    "                   'M2': {'result': ['III 7']},\n",
    "                   'result': ['I 7', 'III']},\n",
    "             'P4': {'M2': {'result': ['V 7']}, 'result': ['V 7']},\n",
    "             'result': ['I 7', 'III', 'V']},\n",
    "       'P1': {'M6': {'M3': {'result': ['VI 7']}, 'result': ['VI 7']},\n",
    "             'M7': {'M3': {'result': ['I 7']}, 'result': ['I 7']},\n",
    "             'M3': {'M6': {'result': ['VI 7']},\n",
    "                   'M7': {'result': ['I 7']},\n",
    "                   'result': ['I', 'VI 7']},\n",
    "             'result': ['I', 'VI 7']},\n",
    "       'M2': {'M7': {'M3': {'result': ['III 7']},\n",
    "                   'P4': {'result': ['V 7']},\n",
    "                   'result': ['III 7', 'V']},\n",
    "             'M3': {'M7': {'result': ['III 7']}, 'result': ['III 7']},\n",
    "             'P4': {'M7': {'result': ['V 7']}, 'result': ['V 7']},\n",
    "             'result': ['III 7', 'V']},\n",
    "       'M3': {'M6': {'P1': {'result': ['VI 7']}, 'result': ['VI 7']},\n",
    "             'M7': {'P1': {'result': ['I 7']},\n",
    "                   'M2': {'result': ['III 7']},\n",
    "                   'result': ['I 7', 'III']},\n",
    "             'P1': {'M6': {'result': ['VI 7']},\n",
    "                   'M7': {'result': ['I 7']},\n",
    "                   'result': ['I', 'VI 7']},\n",
    "             'M2': {'M7': {'result': ['III 7']}, 'result': ['III 7']},\n",
    "             'result': ['I', 'III', 'VI 7']},\n",
    "       'P4': {'M7': {'M2': {'result': ['V 7']}, 'result': ['V 7']},\n",
    "             'M2': {'M7': {'result': ['V 7']}, 'result': ['V 7']},\n",
    "             'result': ['V 7']},\n",
    "       'result': []},\n",
    " 'result': []\n",
    "}\n",
    "\n",
    "minor_chord = {\n",
    " 'M6': {'P1': {'P4': {'result': ['IV +']}, 'result': ['IV +']},\n",
    "       'P4': {'P1': {'result': ['IV +']}, 'result': ['IV +']},\n",
    "       'result': []},\n",
    " 'm6': {'M7': {'M2': {'P4': {'result': ['VII dim7']}, 'result': ['VII dim7']},\n",
    "              'P4': {'M2': {'result': ['VII dim7']}, 'result': ['VII dim7']},\n",
    "              'result': ['VII dim7']},\n",
    "        'P1': {'M2': {'P4': {'result': ['II 7']},\n",
    "                    'A4': {'result': ['VI Fre']},\n",
    "                    'result': ['II 7', 'VI Fre']},\n",
    "              'm3': {'A4': {'result': ['VI Ger']}, 'result': ['VI b']},\n",
    "              'P4': {'M2': {'result': ['II 7']}, 'result': ['II 7', 'IV']},\n",
    "              'A4': {'M2': {'result': ['VI Fre']},\n",
    "                     'm3': {'result': ['VI Ger']},\n",
    "                     'result': ['VI Ita']},\n",
    "              'result': ['II 7', 'IV', 'VI b']},\n",
    "        'M2': {'M7': {'P4': {'result': ['VII dim7']}, 'result': ['VII dim7']},\n",
    "              'P1': {'P4': {'result': ['II 7']},\n",
    "                    'A4': {'result': ['VI Fre']},\n",
    "                    'result': ['II 7', 'VI Fre']},\n",
    "              'P4': {'M7': {'result': ['VII dim7']},\n",
    "                    'P1': {'result': ['II 7']},\n",
    "                    'result': ['II', 'VII dim7']},\n",
    "              'A4': {'P1': {'result': ['VI Fre']}, 'result': ['VI Fre']},\n",
    "              'result': ['II', 'VI Fre', 'VII dim7']},\n",
    "        'm2': {'P4': {'result': ['II b']}, 'result': ['II b']},\n",
    "        'm3': {'P1': {'A4': {'result': ['VI Ger']}, 'result': ['VI b']},\n",
    "               'A4': {'P1': {'result': ['VI Ger']}, 'result': ['VI Ger']},\n",
    "               'result': ['VI b']},\n",
    "        'P4': {'M7': {'M2': {'result': ['VII dim7']}, 'result': ['VII dim7']},\n",
    "              'P1': {'M2': {'result': ['II 7']}, 'result': ['II 7', 'IV']},\n",
    "              'M2': {'M7': {'result': ['VII dim7']},\n",
    "                    'P1': {'result': ['II 7']},\n",
    "                    'result': ['II', 'VII dim7']},\n",
    "              'm2': {'result': ['II b']},\n",
    "              'result': ['II', 'II b', 'IV', 'VII dim7']},\n",
    "        'A4': {'P1': {'M2': {'result': ['VI Fre']},\n",
    "                     'm3': {'result': ['VI Ger']},\n",
    "                     'result': ['VI Ita']},\n",
    "               'M2': {'P1': {'result': ['VI Fre']}, 'result': ['VI Fre']},\n",
    "               'm3': {'P1': {'result': ['VI Ger']}, 'result': ['VI Ger']},\n",
    "               'result': ['VI Ita']},\n",
    "        'result': []},\n",
    " 'M7': {'m6': {'M2': {'P4': {'result': ['VII dim7']}, 'result': ['VII dim7']},\n",
    "              'P4': {'M2': {'result': ['VII dim7']}, 'result': ['VII dim7']},\n",
    "              'result': ['VII dim7']},\n",
    "       'M2': {'m6': {'P4': {'result': ['VII dim7']}, 'result': ['VII dim7']},\n",
    "             'P4': {'m6': {'result': ['VII dim7']},\n",
    "                   'P5': {'result': ['V +7']},\n",
    "                   'result': ['V +7', 'VII dim']},\n",
    "             'P5': {'P4': {'result': ['V +7']}, 'result': ['V +']},\n",
    "             'result': ['V +', 'VII dim']},\n",
    "       'P4': {'m6': {'M2': {'result': ['VII dim7']}, 'result': ['VII dim7']},\n",
    "             'M2': {'m6': {'result': ['VII dim7']},\n",
    "                   'P5': {'result': ['V +7']},\n",
    "                   'result': ['V +7', 'VII dim']},\n",
    "             'P5': {'M2': {'result': ['V +7']}, 'result': ['V +7']},\n",
    "             'result': ['V +7', 'VII dim']},\n",
    "       'P5': {'M2': {'P4': {'result': ['V +7']}, 'result': ['V +']},\n",
    "             'P4': {'M2': {'result': ['V +7']}, 'result': ['V +7']},\n",
    "             'result': ['V +']},\n",
    "       'result': []},\n",
    " 'm7': {'M2': {'P4': {'result': ['VII']},\n",
    "              'P5': {'result': ['V']},\n",
    "              'result': ['V', 'VII']},\n",
    "        'm3': {'P5': {'result': ['III']}, 'result': ['III']},\n",
    "        'P4': {'M2': {'result': ['VII']}, 'result': ['VII']},\n",
    "        'P5': {'M2': {'result': ['V']},\n",
    "              'm3': {'result': ['III']},\n",
    "              'result': ['III', 'V']},\n",
    "        'result': []},\n",
    " 'P1': {'M6': {'P4': {'result': ['IV +']}, 'result': ['IV +']},\n",
    "       'm6': {'M2': {'P4': {'result': ['II 7']},\n",
    "                    'A4': {'result': ['VI Fre']},\n",
    "                    'result': ['II 7', 'VI Fre']},\n",
    "              'm3': {'A4': {'result': ['VI Ger']}, 'result': ['VI b']},\n",
    "              'P4': {'M2': {'result': ['II 7']}, 'result': ['II 7', 'IV']},\n",
    "              'A4': {'M2': {'result': ['VI Fre']},\n",
    "                     'm3': {'result': ['VI Ger']},\n",
    "                     'result': ['VI Ita']},\n",
    "              'result': ['II 7', 'IV', 'VI b']},\n",
    "       'M2': {'m6': {'P4': {'result': ['II 7']},\n",
    "                    'A4': {'result': ['VI Fre']},\n",
    "                    'result': ['II 7', 'VI Fre']},\n",
    "             'P4': {'m6': {'result': ['II 7']}, 'result': ['II 7']},\n",
    "             'A4': {'m6': {'result': ['VI Fre']}, 'result': ['VI Fre']},\n",
    "             'result': ['II 7', 'VI Fre']},\n",
    "       'M3': {'P5': {'result': ['I +']}, 'result': ['I +']},\n",
    "       'm3': {'m6': {'A4': {'result': ['VI Ger']}, 'result': ['VI b']},\n",
    "              'A4': {'m6': {'result': ['VI Ger']}, 'result': ['VI Ger']},\n",
    "              'P5': {'result': ['I']},\n",
    "              'result': ['I', 'VI b']},\n",
    "       'P4': {'M6': {'result': ['IV +']},\n",
    "             'm6': {'M2': {'result': ['II 7']}, 'result': ['II 7', 'IV']},\n",
    "             'M2': {'m6': {'result': ['II 7']}, 'result': ['II 7']},\n",
    "             'result': ['II 7', 'IV', 'IV +']},\n",
    "       'A4': {'m6': {'M2': {'result': ['VI Fre']},\n",
    "                     'm3': {'result': ['VI Ger']},\n",
    "                     'result': ['VI Ita']},\n",
    "              'M2': {'m6': {'result': ['VI Fre']}, 'result': ['VI Fre']},\n",
    "              'm3': {'m6': {'result': ['VI Ger']}, 'result': ['VI Ger']},\n",
    "              'result': ['VI Ita']},\n",
    "       'P5': {'M3': {'result': ['I +']},\n",
    "             'm3': {'result': ['I']},\n",
    "             'result': ['I', 'I +']},\n",
    "       'result': []},\n",
    " 'M2': {'m6': {'M7': {'P4': {'result': ['VII dim7']}, 'result': ['VII dim7']},\n",
    "              'P1': {'P4': {'result': ['II 7']},\n",
    "                    'A4': {'result': ['VI Fre']},\n",
    "                    'result': ['II 7', 'VI Fre']},\n",
    "              'P4': {'M7': {'result': ['VII dim7']},\n",
    "                    'P1': {'result': ['II 7']},\n",
    "                    'result': ['II', 'VII dim7']},\n",
    "              'A4': {'P1': {'result': ['VI Fre']}, 'result': ['VI Fre']},\n",
    "              'result': ['II', 'VI Fre', 'VII dim7']},\n",
    "       'M7': {'m6': {'P4': {'result': ['VII dim7']}, 'result': ['VII dim7']},\n",
    "             'P4': {'m6': {'result': ['VII dim7']},\n",
    "                   'P5': {'result': ['V +7']},\n",
    "                   'result': ['V +7', 'VII dim']},\n",
    "             'P5': {'P4': {'result': ['V +7']}, 'result': ['V +']},\n",
    "             'result': ['V +', 'VII dim']},\n",
    "       'm7': {'P4': {'result': ['VII']},\n",
    "              'P5': {'result': ['V']},\n",
    "              'result': ['V', 'VII']},\n",
    "       'P1': {'m6': {'P4': {'result': ['II 7']},\n",
    "                    'A4': {'result': ['VI Fre']},\n",
    "                    'result': ['II 7', 'VI Fre']},\n",
    "             'P4': {'m6': {'result': ['II 7']}, 'result': ['II 7']},\n",
    "             'A4': {'m6': {'result': ['VI Fre']}, 'result': ['VI Fre']},\n",
    "             'result': ['II 7', 'VI Fre']},\n",
    "       'P4': {'m6': {'M7': {'result': ['VII dim7']},\n",
    "                    'P1': {'result': ['II 7']},\n",
    "                    'result': ['II', 'VII dim7']},\n",
    "             'M7': {'m6': {'result': ['VII dim7']},\n",
    "                   'P5': {'result': ['V +7']},\n",
    "                   'result': ['V +7', 'VII dim']},\n",
    "             'm7': {'result': ['VII']},\n",
    "             'P1': {'m6': {'result': ['II 7']}, 'result': ['II 7']},\n",
    "             'P5': {'M7': {'result': ['V +7']}, 'result': ['V +7']},\n",
    "             'result': ['II', 'V +7', 'VII', 'VII dim']},\n",
    "       'A4': {'m6': {'P1': {'result': ['VI Fre']}, 'result': ['VI Fre']},\n",
    "              'P1': {'m6': {'result': ['VI Fre']}, 'result': ['VI Fre']},\n",
    "              'result': ['VI Fre']},\n",
    "       'P5': {'M7': {'P4': {'result': ['V +7']}, 'result': ['V +']},\n",
    "             'm7': {'result': ['V']},\n",
    "             'P4': {'M7': {'result': ['V +7']}, 'result': ['V +7']},\n",
    "             'result': ['V', 'V +']},\n",
    "       'result': []},\n",
    " 'm2': {'m6': {'P4': {'result': ['II b']}, 'result': ['II b']},\n",
    "        'P4': {'m6': {'result': ['II b']}, 'result': ['II b']},\n",
    "        'result': []},\n",
    " 'M3': {'P1': {'P5': {'result': ['I +']}, 'result': ['I +']},\n",
    "       'P5': {'P1': {'result': ['I +']}, 'result': ['I +']},\n",
    "       'result': []},\n",
    " 'm3': {'m6': {'P1': {'A4': {'result': ['VI Ger']}, 'result': ['VI b']},\n",
    "               'A4': {'P1': {'result': ['VI Ger']}, 'result': ['VI Ger']},\n",
    "               'result': ['VI b']},\n",
    "        'm7': {'P5': {'result': ['III']}, 'result': ['III']},\n",
    "        'P1': {'m6': {'A4': {'result': ['VI Ger']}, 'result': ['VI b']},\n",
    "              'A4': {'m6': {'result': ['VI Ger']}, 'result': ['VI Ger']},\n",
    "              'P5': {'result': ['I']},\n",
    "              'result': ['I', 'VI b']},\n",
    "        'A4': {'m6': {'P1': {'result': ['VI Ger']}, 'result': ['VI Ger']},\n",
    "               'P1': {'m6': {'result': ['VI Ger']}, 'result': ['VI Ger']},\n",
    "               'result': ['VI Ger']},\n",
    "        'P5': {'m7': {'result': ['III']},\n",
    "              'P1': {'result': ['I']},\n",
    "              'result': ['I', 'III']},\n",
    "        'result': []},\n",
    " 'P4': {'M6': {'P1': {'result': ['IV +']}, 'result': ['IV +']},\n",
    "       'm6': {'M7': {'M2': {'result': ['VII dim7']}, 'result': ['VII dim7']},\n",
    "              'P1': {'M2': {'result': ['II 7']}, 'result': ['II 7', 'IV']},\n",
    "              'M2': {'M7': {'result': ['VII dim7']},\n",
    "                    'P1': {'result': ['II 7']},\n",
    "                    'result': ['II', 'VII dim7']},\n",
    "              'm2': {'result': ['II b']},\n",
    "              'result': ['II', 'II b', 'IV', 'VII dim7']},\n",
    "       'M7': {'m6': {'M2': {'result': ['VII dim7']}, 'result': ['VII dim7']},\n",
    "             'M2': {'m6': {'result': ['VII dim7']},\n",
    "                   'P5': {'result': ['V +7']},\n",
    "                   'result': ['V +7', 'VII dim']},\n",
    "             'P5': {'M2': {'result': ['V +7']}, 'result': ['V +7']},\n",
    "             'result': ['V +7', 'VII dim']},\n",
    "       'm7': {'M2': {'result': ['VII']}, 'result': ['VII']},\n",
    "       'P1': {'M6': {'result': ['IV +']},\n",
    "             'm6': {'M2': {'result': ['II 7']}, 'result': ['II 7', 'IV']},\n",
    "             'M2': {'m6': {'result': ['II 7']}, 'result': ['II 7']},\n",
    "             'result': ['II 7', 'IV', 'IV +']},\n",
    "       'M2': {'m6': {'M7': {'result': ['VII dim7']},\n",
    "                    'P1': {'result': ['II 7']},\n",
    "                    'result': ['II', 'VII dim7']},\n",
    "             'M7': {'m6': {'result': ['VII dim7']},\n",
    "                   'P5': {'result': ['V +7']},\n",
    "                   'result': ['V +7', 'VII dim']},\n",
    "             'm7': {'result': ['VII']},\n",
    "             'P1': {'m6': {'result': ['II 7']}, 'result': ['II 7']},\n",
    "             'P5': {'M7': {'result': ['V +7']}, 'result': ['V +7']},\n",
    "             'result': ['II', 'V +7', 'VII', 'VII dim']},\n",
    "       'm2': {'m6': {'result': ['II b']}, 'result': ['II b']},\n",
    "       'P5': {'M7': {'M2': {'result': ['V +7']}, 'result': ['V +7']},\n",
    "             'M2': {'M7': {'result': ['V +7']}, 'result': ['V +7']},\n",
    "             'result': ['V +7']},\n",
    "       'result': []},\n",
    " 'A4': {'m6': {'P1': {'M2': {'result': ['VI Fre']},\n",
    "                     'm3': {'result': ['VI Ger']},\n",
    "                     'result': ['VI Ita']},\n",
    "               'M2': {'P1': {'result': ['VI Fre']}, 'result': ['VI Fre']},\n",
    "               'm3': {'P1': {'result': ['VI Ger']}, 'result': ['VI Ger']},\n",
    "               'result': ['VI Ita']},\n",
    "        'P1': {'m6': {'M2': {'result': ['VI Fre']},\n",
    "                     'm3': {'result': ['VI Ger']},\n",
    "                     'result': ['VI Ita']},\n",
    "              'M2': {'m6': {'result': ['VI Fre']}, 'result': ['VI Fre']},\n",
    "              'm3': {'m6': {'result': ['VI Ger']}, 'result': ['VI Ger']},\n",
    "              'result': ['VI Ita']},\n",
    "        'M2': {'m6': {'P1': {'result': ['VI Fre']}, 'result': ['VI Fre']},\n",
    "              'P1': {'m6': {'result': ['VI Fre']}, 'result': ['VI Fre']},\n",
    "              'result': ['VI Fre']},\n",
    "        'm3': {'m6': {'P1': {'result': ['VI Ger']}, 'result': ['VI Ger']},\n",
    "               'P1': {'m6': {'result': ['VI Ger']}, 'result': ['VI Ger']},\n",
    "               'result': ['VI Ger']},\n",
    "        'result': []},\n",
    " 'P5': {'M7': {'M2': {'P4': {'result': ['V +7']}, 'result': ['V +']},\n",
    "             'P4': {'M2': {'result': ['V +7']}, 'result': ['V +7']},\n",
    "             'result': ['V +']},\n",
    "       'm7': {'M2': {'result': ['V']},\n",
    "              'm3': {'result': ['III']},\n",
    "              'result': ['III', 'V']},\n",
    "       'P1': {'M3': {'result': ['I +']},\n",
    "             'm3': {'result': ['I']},\n",
    "             'result': ['I', 'I +']},\n",
    "       'M2': {'M7': {'P4': {'result': ['V +7']}, 'result': ['V +']},\n",
    "             'm7': {'result': ['V']},\n",
    "             'P4': {'M7': {'result': ['V +7']}, 'result': ['V +7']},\n",
    "             'result': ['V', 'V +']},\n",
    "       'M3': {'P1': {'result': ['I +']}, 'result': ['I +']},\n",
    "       'm3': {'m7': {'result': ['III']},\n",
    "              'P1': {'result': ['I']},\n",
    "              'result': ['I', 'III']},\n",
    "       'P4': {'M7': {'M2': {'result': ['V +7']}, 'result': ['V +7']},\n",
    "             'M2': {'M7': {'result': ['V +7']}, 'result': ['V +7']},\n",
    "             'result': ['V +7']},\n",
    "       'result': []},\n",
    " 'result': []\n",
    "}\n",
    "\n",
    "key = 'C'\n",
    "scale = 'Major'\n",
    "notes = ['C','E','G','A']\n",
    "\n",
    "\n",
    "\n",
    "key = key.replace('b','-')\n",
    "key = key.upper()\n",
    "tonic_note = note.Note(key)\n",
    "print(tonic_note.pitch)\n",
    "tonic_note.octave = None\n",
    "notes = [x.replace('b','-') for x in notes]\n",
    "notes = [x.upper() for x in notes]\n",
    "\n",
    "sub_dict = major_chord if scale==\"major\" else minor_chord\n",
    "best_index = -1\n",
    "\n",
    "for index, n in enumerate(notes):\n",
    "    n = note.Note(n)\n",
    "    n.octave = None\n",
    "    i = interval.Interval(tonic_note, n)\n",
    "    if i.name not in sub_dict:\n",
    "        break\n",
    "    best_index = index\n",
    "    sub_dict = sub_dict[i.name]\n",
    "\n",
    "result = sub_dict['result']\n",
    "exclude = notes[best_index+1:]\n",
    "\n",
    "print('result: '+', '.join(result))\n",
    "print('excluded notes: '+', '.join(str(n) for n in exclude))"
   ]
  },
  {
   "cell_type": "code",
   "execution_count": 9,
   "metadata": {
    "collapsed": false
   },
   "outputs": [
    {
     "data": {
      "text/plain": [
       "<music21.note.Note C>"
      ]
     },
     "execution_count": 9,
     "metadata": {},
     "output_type": "execute_result"
    }
   ],
   "source": [
    "n = note.Note()\n",
    "n"
   ]
  },
  {
   "cell_type": "code",
   "execution_count": 10,
   "metadata": {
    "collapsed": false
   },
   "outputs": [
    {
     "ename": "AttributeError",
     "evalue": "'Note' object has no attribute 'picth'",
     "output_type": "error",
     "traceback": [
      "\u001b[1;31m---------------------------------------------------------------------------\u001b[0m",
      "\u001b[1;31mAttributeError\u001b[0m                            Traceback (most recent call last)",
      "\u001b[1;32m<ipython-input-10-2cef1ade5353>\u001b[0m in \u001b[0;36m<module>\u001b[1;34m()\u001b[0m\n\u001b[1;32m----> 1\u001b[1;33m \u001b[0mn\u001b[0m\u001b[1;33m.\u001b[0m\u001b[0mpicth\u001b[0m\u001b[1;33m\u001b[0m\u001b[0m\n\u001b[0m",
      "\u001b[1;31mAttributeError\u001b[0m: 'Note' object has no attribute 'picth'"
     ]
    }
   ],
   "source": [
    "n.picth"
   ]
  },
  {
   "cell_type": "code",
   "execution_count": 11,
   "metadata": {
    "collapsed": false
   },
   "outputs": [
    {
     "ename": "TypeError",
     "evalue": "'Pitch' object is not callable",
     "output_type": "error",
     "traceback": [
      "\u001b[1;31m---------------------------------------------------------------------------\u001b[0m",
      "\u001b[1;31mTypeError\u001b[0m                                 Traceback (most recent call last)",
      "\u001b[1;32m<ipython-input-11-ba07613c98fa>\u001b[0m in \u001b[0;36m<module>\u001b[1;34m()\u001b[0m\n\u001b[1;32m----> 1\u001b[1;33m \u001b[0mn\u001b[0m\u001b[1;33m.\u001b[0m\u001b[0mpitch\u001b[0m\u001b[1;33m(\u001b[0m\u001b[1;33m)\u001b[0m\u001b[1;33m\u001b[0m\u001b[0m\n\u001b[0m",
      "\u001b[1;31mTypeError\u001b[0m: 'Pitch' object is not callable"
     ]
    }
   ],
   "source": [
    "n.pitch()"
   ]
  },
  {
   "cell_type": "code",
   "execution_count": 12,
   "metadata": {
    "collapsed": false
   },
   "outputs": [
    {
     "data": {
      "text/plain": [
       "<music21.pitch.Pitch C4>"
      ]
     },
     "execution_count": 12,
     "metadata": {},
     "output_type": "execute_result"
    }
   ],
   "source": [
    "n.pitch"
   ]
  },
  {
   "cell_type": "code",
   "execution_count": 3,
   "metadata": {
    "collapsed": false
   },
   "outputs": [
    {
     "data": {
      "text/plain": [
       "(DurationTuple(type='quarter', dots=1, quarterLength=1.5),)"
      ]
     },
     "execution_count": 3,
     "metadata": {},
     "output_type": "execute_result"
    }
   ],
   "source": [
    "from music21 import *\n",
    "d = duration.Duration(1.5)\n",
    "d.components"
   ]
  },
  {
   "cell_type": "code",
   "execution_count": 4,
   "metadata": {
    "collapsed": true
   },
   "outputs": [],
   "source": [
    "n = note.Note('B-6')"
   ]
  },
  {
   "cell_type": "code",
   "execution_count": 5,
   "metadata": {
    "collapsed": false
   },
   "outputs": [
    {
     "data": {
      "text/plain": [
       "'B-'"
      ]
     },
     "execution_count": 5,
     "metadata": {},
     "output_type": "execute_result"
    }
   ],
   "source": [
    "n.name"
   ]
  },
  {
   "cell_type": "code",
   "execution_count": 6,
   "metadata": {
    "collapsed": false
   },
   "outputs": [
    {
     "data": {
      "text/plain": [
       "'B-6'"
      ]
     },
     "execution_count": 6,
     "metadata": {},
     "output_type": "execute_result"
    }
   ],
   "source": [
    "n.nameWithOctave"
   ]
  },
  {
   "cell_type": "code",
   "execution_count": 9,
   "metadata": {
    "collapsed": false
   },
   "outputs": [],
   "source": [
    "n = note.Note('B-6',quarterlength='2')"
   ]
  },
  {
   "cell_type": "code",
   "execution_count": 10,
   "metadata": {
    "collapsed": false
   },
   "outputs": [
    {
     "data": {
      "text/plain": [
       "'B-flat in octave 6 Quarter Note'"
      ]
     },
     "execution_count": 10,
     "metadata": {},
     "output_type": "execute_result"
    }
   ],
   "source": [
    "n.fullName"
   ]
  },
  {
   "cell_type": "code",
   "execution_count": 12,
   "metadata": {
    "collapsed": false
   },
   "outputs": [
    {
     "data": {
      "text/plain": [
       "'B-flat in octave 6 Half Note'"
      ]
     },
     "execution_count": 12,
     "metadata": {},
     "output_type": "execute_result"
    }
   ],
   "source": [
    "n = note.Note('B-6',quarterLength=2)\n",
    "n.fullName"
   ]
  },
  {
   "cell_type": "code",
   "execution_count": 13,
   "metadata": {
    "collapsed": false
   },
   "outputs": [
    {
     "data": {
      "text/plain": [
       "'B-sharp in octave 6 Quarter Note'"
      ]
     },
     "execution_count": 13,
     "metadata": {},
     "output_type": "execute_result"
    }
   ],
   "source": [
    "n = note.Note('B#6')\n",
    "n.fullName"
   ]
  },
  {
   "cell_type": "code",
   "execution_count": 14,
   "metadata": {
    "collapsed": false
   },
   "outputs": [
    {
     "data": {
      "text/plain": [
       "'B-sharp in octave 4 Quarter Note'"
      ]
     },
     "execution_count": 14,
     "metadata": {},
     "output_type": "execute_result"
    }
   ],
   "source": [
    "n.octave = 4\n",
    "n.fullName"
   ]
  },
  {
   "cell_type": "code",
   "execution_count": 15,
   "metadata": {
    "collapsed": false
   },
   "outputs": [
    {
     "data": {
      "text/plain": [
       "'B-sharp Quarter Note'"
      ]
     },
     "execution_count": 15,
     "metadata": {},
     "output_type": "execute_result"
    }
   ],
   "source": [
    "n.octave = None\n",
    "n.fullName"
   ]
  },
  {
   "cell_type": "code",
   "execution_count": 19,
   "metadata": {
    "collapsed": false
   },
   "outputs": [
    {
     "data": {
      "text/plain": [
       "<music21.interval.Interval P8>"
      ]
     },
     "execution_count": 19,
     "metadata": {},
     "output_type": "execute_result"
    }
   ],
   "source": [
    "interval.Interval(note.Note('C4'),note.Note('C5'))"
   ]
  },
  {
   "cell_type": "code",
   "execution_count": 20,
   "metadata": {
    "collapsed": false
   },
   "outputs": [
    {
     "data": {
      "text/plain": [
       "'D#'"
      ]
     },
     "execution_count": 20,
     "metadata": {},
     "output_type": "execute_result"
    }
   ],
   "source": [
    "n = note.Note('D#5')\n",
    "n.name"
   ]
  },
  {
   "cell_type": "code",
   "execution_count": 21,
   "metadata": {
    "collapsed": false
   },
   "outputs": [
    {
     "data": {
      "text/plain": [
       "True"
      ]
     },
     "execution_count": 21,
     "metadata": {},
     "output_type": "execute_result"
    }
   ],
   "source": [
    "m = note.Note('D#6')\n",
    "m.name == n.name"
   ]
  },
  {
   "cell_type": "code",
   "execution_count": 22,
   "metadata": {
    "collapsed": false
   },
   "outputs": [
    {
     "data": {
      "text/plain": [
       "'D-sharp in octave 5 Quarter Note'"
      ]
     },
     "execution_count": 22,
     "metadata": {},
     "output_type": "execute_result"
    }
   ],
   "source": [
    "n.fullName"
   ]
  },
  {
   "cell_type": "code",
   "execution_count": 23,
   "metadata": {
    "collapsed": false
   },
   "outputs": [
    {
     "data": {
      "text/plain": [
       "'D-sharp in octave 5 Whole Note'"
      ]
     },
     "execution_count": 23,
     "metadata": {},
     "output_type": "execute_result"
    }
   ],
   "source": [
    "n.quarterLength = 4\n",
    "n.fullName"
   ]
  },
  {
   "cell_type": "code",
   "execution_count": 24,
   "metadata": {
    "collapsed": false
   },
   "outputs": [
    {
     "data": {
      "text/plain": [
       "'D#5'"
      ]
     },
     "execution_count": 24,
     "metadata": {},
     "output_type": "execute_result"
    }
   ],
   "source": [
    "n.nameWithOctave"
   ]
  },
  {
   "cell_type": "code",
   "execution_count": 34,
   "metadata": {
    "collapsed": false
   },
   "outputs": [
    {
     "data": {
      "text/plain": [
       "'Ascending Major Second'"
      ]
     },
     "execution_count": 34,
     "metadata": {},
     "output_type": "execute_result"
    }
   ],
   "source": [
    "interval.Interval(note.Note('C'),note.Note('D')).directedNiceName"
   ]
  },
  {
   "cell_type": "code",
   "execution_count": 38,
   "metadata": {
    "collapsed": false
   },
   "outputs": [
    {
     "data": {
      "text/plain": [
       "'P4'"
      ]
     },
     "execution_count": 38,
     "metadata": {},
     "output_type": "execute_result"
    }
   ],
   "source": [
    "interval.Interval(note.Note('C4'),note.Note('G3')).name"
   ]
  },
  {
   "cell_type": "code",
   "execution_count": 41,
   "metadata": {
    "collapsed": false
   },
   "outputs": [
    {
     "data": {
      "text/plain": [
       "'P4'"
      ]
     },
     "execution_count": 41,
     "metadata": {},
     "output_type": "execute_result"
    }
   ],
   "source": [
    "interval.Interval(note.Note('G4'),note.Note('C5')).name"
   ]
  },
  {
   "cell_type": "code",
   "execution_count": 1,
   "metadata": {
    "collapsed": false
   },
   "outputs": [
    {
     "data": {
      "text/plain": [
       "'P-4'"
      ]
     },
     "execution_count": 1,
     "metadata": {},
     "output_type": "execute_result"
    }
   ],
   "source": [
    "from music21 import *\n",
    "interval.Interval(note.Note('C4'),note.Note('G3')).directedName"
   ]
  },
  {
   "cell_type": "code",
   "execution_count": null,
   "metadata": {
    "collapsed": true
   },
   "outputs": [],
   "source": []
  }
 ],
 "metadata": {
  "kernelspec": {
   "display_name": "Python 3",
   "language": "python",
   "name": "python3"
  },
  "language_info": {
   "codemirror_mode": {
    "name": "ipython",
    "version": 3
   },
   "file_extension": ".py",
   "mimetype": "text/x-python",
   "name": "python",
   "nbconvert_exporter": "python",
   "pygments_lexer": "ipython3",
   "version": "3.6.0"
  }
 },
 "nbformat": 4,
 "nbformat_minor": 2
}
